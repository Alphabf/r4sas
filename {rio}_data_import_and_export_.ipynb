{
  "cells": [
    {
      "cell_type": "markdown",
      "metadata": {
        "id": "view-in-github",
        "colab_type": "text"
      },
      "source": [
        "<a href=\"https://colab.research.google.com/github/Alphabf/sas2r/blob/main/%7Brio%7D_data_import_and_export_.ipynb\" target=\"_parent\"><img src=\"https://colab.research.google.com/assets/colab-badge.svg\" alt=\"Open In Colab\"/></a>"
      ]
    },
    {
      "cell_type": "code",
      "execution_count": null,
      "id": "fea320c2-46f3-42d4-b728-0e9c53f3f92d",
      "metadata": {
        "id": "fea320c2-46f3-42d4-b728-0e9c53f3f92d"
      },
      "outputs": [],
      "source": [
        "# setwd('C:/Users/Waraba/Desktop/R in CDISC _ Jupyter Lab')\n",
        "\n",
        "setwd('C:/Users/Waraba/Desktop/R in CDISC _ Jupyter Lab/RAWDEMO_CSV')"
      ]
    },
    {
      "cell_type": "code",
      "execution_count": null,
      "id": "7abc5ba8-3ace-413c-8d62-7e2e10f2b52e",
      "metadata": {
        "id": "7abc5ba8-3ace-413c-8d62-7e2e10f2b52e"
      },
      "outputs": [],
      "source": []
    },
    {
      "cell_type": "code",
      "execution_count": null,
      "id": "d8a34cb2-2fba-4996-b64e-4fb8e6a7dccd",
      "metadata": {
        "id": "d8a34cb2-2fba-4996-b64e-4fb8e6a7dccd",
        "outputId": "9bd2000b-857c-49fe-81a7-dd7c58df88a5"
      },
      "outputs": [
        {
          "data": {
            "text/html": [
              "'C:/Users/Waraba/Desktop/R in CDISC _ Jupyter Lab/RAWDEMO_CSV'"
            ],
            "text/latex": [
              "'C:/Users/Waraba/Desktop/R in CDISC \\_ Jupyter Lab/RAWDEMO\\_CSV'"
            ],
            "text/markdown": [
              "'C:/Users/Waraba/Desktop/R in CDISC _ Jupyter Lab/RAWDEMO_CSV'"
            ],
            "text/plain": [
              "[1] \"C:/Users/Waraba/Desktop/R in CDISC _ Jupyter Lab/RAWDEMO_CSV\""
            ]
          },
          "metadata": {},
          "output_type": "display_data"
        }
      ],
      "source": [
        "getwd()"
      ]
    },
    {
      "cell_type": "code",
      "execution_count": null,
      "id": "0fbfcccc-6b79-4cc7-8162-e3595c1c6eb0",
      "metadata": {
        "id": "0fbfcccc-6b79-4cc7-8162-e3595c1c6eb0"
      },
      "outputs": [],
      "source": [
        "load(\"dm_rawdata.RData\")\n",
        "ls()\n"
      ]
    },
    {
      "cell_type": "code",
      "execution_count": null,
      "id": "fa8ae35c-4259-4987-ae02-304034b21ac1",
      "metadata": {
        "id": "fa8ae35c-4259-4987-ae02-304034b21ac1",
        "outputId": "78fa4c78-ea1b-48f7-ceca-eff4cdf5e953"
      },
      "outputs": [
        {
          "name": "stderr",
          "output_type": "stream",
          "text": [
            "Warning message:\n",
            "\"package 'rio' is in use and will not be installed\"\n"
          ]
        }
      ],
      "source": [
        "install.packages(\"rio\")\n",
        "library(rio)"
      ]
    },
    {
      "cell_type": "code",
      "execution_count": null,
      "id": "6796e4c2-9577-413a-aea0-4171ed3dd570",
      "metadata": {
        "id": "6796e4c2-9577-413a-aea0-4171ed3dd570"
      },
      "outputs": [],
      "source": [
        "demog <- import(\"demog.csv\")"
      ]
    },
    {
      "cell_type": "code",
      "execution_count": null,
      "id": "3df71acd-b253-4db8-aceb-6f4c34386586",
      "metadata": {
        "id": "3df71acd-b253-4db8-aceb-6f4c34386586"
      },
      "outputs": [],
      "source": [
        "head(demog)"
      ]
    },
    {
      "cell_type": "markdown",
      "id": "0d91b5c1-f4f9-4139-b058-ad63ef48e356",
      "metadata": {
        "id": "0d91b5c1-f4f9-4139-b058-ad63ef48e356"
      },
      "source": [
        "**Data import and export: {rio}**"
      ]
    },
    {
      "cell_type": "code",
      "execution_count": null,
      "id": "85ea14d9-fd57-4d59-b49d-e1957791a491",
      "metadata": {
        "id": "85ea14d9-fd57-4d59-b49d-e1957791a491"
      },
      "outputs": [],
      "source": [
        "library(rio)"
      ]
    },
    {
      "cell_type": "code",
      "execution_count": null,
      "id": "d9a0a709-9e3f-48b1-9bd3-128e8770177b",
      "metadata": {
        "id": "d9a0a709-9e3f-48b1-9bd3-128e8770177b"
      },
      "outputs": [],
      "source": [
        "demog_rio <- import(\"demog.csv\")"
      ]
    },
    {
      "cell_type": "code",
      "execution_count": null,
      "id": "1ea5387c-faa0-4114-a7f3-849544020a97",
      "metadata": {
        "id": "1ea5387c-faa0-4114-a7f3-849544020a97"
      },
      "outputs": [],
      "source": [
        "head(demog_rio)"
      ]
    },
    {
      "cell_type": "markdown",
      "id": "f1c93c97-de8c-4cd9-96ff-8d089002b3c2",
      "metadata": {
        "id": "f1c93c97-de8c-4cd9-96ff-8d089002b3c2"
      },
      "source": [
        "   "
      ]
    },
    {
      "cell_type": "markdown",
      "id": "37f1460e-3c76-4d95-80f4-bb95480ddc63",
      "metadata": {
        "id": "37f1460e-3c76-4d95-80f4-bb95480ddc63"
      },
      "source": [
        "**Import an Excel file and load each sheet as a separate table (DataFrame)**"
      ]
    },
    {
      "cell_type": "code",
      "execution_count": null,
      "id": "bd402286-1d75-4eac-a8f6-0616f0e6bb8d",
      "metadata": {
        "id": "bd402286-1d75-4eac-a8f6-0616f0e6bb8d",
        "outputId": "97810ef9-8ff4-4857-b6bf-1f3b97f3e8d1"
      },
      "outputs": [
        {
          "name": "stdout",
          "output_type": "stream",
          "text": [
            "List of 2\n",
            " $ Students :'data.frame':\t3 obs. of  3 variables:\n",
            "  ..$ ID   : num [1:3] 1 2 3\n",
            "  ..$ Name : chr [1:3] \"Alice\" \"Bob\" \"Charlie\"\n",
            "  ..$ Score: num [1:3] 85 90 95\n",
            " $ Inventory:'data.frame':\t3 obs. of  3 variables:\n",
            "  ..$ Product : chr [1:3] \"Widget A\" \"Widget B\" \"Widget C\"\n",
            "  ..$ Price   : num [1:3] 20.5 35 12.8\n",
            "  ..$ In Stock: logi [1:3] TRUE FALSE TRUE\n"
          ]
        }
      ],
      "source": [
        "all_sheets <- import_list(\"sample_excel_file.xlsx\")\n",
        "str(all_sheets)"
      ]
    },
    {
      "cell_type": "code",
      "execution_count": null,
      "id": "2f852e66-3b26-4d3d-bbcc-6984964cded8",
      "metadata": {
        "id": "2f852e66-3b26-4d3d-bbcc-6984964cded8",
        "outputId": "d0c17efd-0941-4d2a-d407-e45045791489"
      },
      "outputs": [
        {
          "data": {
            "text/html": [
              "<dl>\n",
              "\t<dt>$Students</dt>\n",
              "\t\t<dd><table class=\"dataframe\">\n",
              "<caption>A data.frame: 3 × 3</caption>\n",
              "<thead>\n",
              "\t<tr><th></th><th scope=col>ID</th><th scope=col>Name</th><th scope=col>Score</th></tr>\n",
              "\t<tr><th></th><th scope=col>&lt;dbl&gt;</th><th scope=col>&lt;chr&gt;</th><th scope=col>&lt;dbl&gt;</th></tr>\n",
              "</thead>\n",
              "<tbody>\n",
              "\t<tr><th scope=row>1</th><td>1</td><td>Alice  </td><td>85</td></tr>\n",
              "\t<tr><th scope=row>2</th><td>2</td><td>Bob    </td><td>90</td></tr>\n",
              "\t<tr><th scope=row>3</th><td>3</td><td>Charlie</td><td>95</td></tr>\n",
              "</tbody>\n",
              "</table>\n",
              "</dd>\n",
              "\t<dt>$Inventory</dt>\n",
              "\t\t<dd><table class=\"dataframe\">\n",
              "<caption>A data.frame: 3 × 3</caption>\n",
              "<thead>\n",
              "\t<tr><th></th><th scope=col>Product</th><th scope=col>Price</th><th scope=col>In Stock</th></tr>\n",
              "\t<tr><th></th><th scope=col>&lt;chr&gt;</th><th scope=col>&lt;dbl&gt;</th><th scope=col>&lt;lgl&gt;</th></tr>\n",
              "</thead>\n",
              "<tbody>\n",
              "\t<tr><th scope=row>1</th><td>Widget A</td><td>20.50</td><td> TRUE</td></tr>\n",
              "\t<tr><th scope=row>2</th><td>Widget B</td><td>35.00</td><td>FALSE</td></tr>\n",
              "\t<tr><th scope=row>3</th><td>Widget C</td><td>12.75</td><td> TRUE</td></tr>\n",
              "</tbody>\n",
              "</table>\n",
              "</dd>\n",
              "</dl>\n"
            ],
            "text/latex": [
              "\\begin{description}\n",
              "\\item[\\$Students] A data.frame: 3 × 3\n",
              "\\begin{tabular}{r|lll}\n",
              "  & ID & Name & Score\\\\\n",
              "  & <dbl> & <chr> & <dbl>\\\\\n",
              "\\hline\n",
              "\t1 & 1 & Alice   & 85\\\\\n",
              "\t2 & 2 & Bob     & 90\\\\\n",
              "\t3 & 3 & Charlie & 95\\\\\n",
              "\\end{tabular}\n",
              "\n",
              "\\item[\\$Inventory] A data.frame: 3 × 3\n",
              "\\begin{tabular}{r|lll}\n",
              "  & Product & Price & In Stock\\\\\n",
              "  & <chr> & <dbl> & <lgl>\\\\\n",
              "\\hline\n",
              "\t1 & Widget A & 20.50 &  TRUE\\\\\n",
              "\t2 & Widget B & 35.00 & FALSE\\\\\n",
              "\t3 & Widget C & 12.75 &  TRUE\\\\\n",
              "\\end{tabular}\n",
              "\n",
              "\\end{description}\n"
            ],
            "text/markdown": [
              "$Students\n",
              ":   \n",
              "A data.frame: 3 × 3\n",
              "\n",
              "| <!--/--> | ID &lt;dbl&gt; | Name &lt;chr&gt; | Score &lt;dbl&gt; |\n",
              "|---|---|---|---|\n",
              "| 1 | 1 | Alice   | 85 |\n",
              "| 2 | 2 | Bob     | 90 |\n",
              "| 3 | 3 | Charlie | 95 |\n",
              "\n",
              "\n",
              "$Inventory\n",
              ":   \n",
              "A data.frame: 3 × 3\n",
              "\n",
              "| <!--/--> | Product &lt;chr&gt; | Price &lt;dbl&gt; | In Stock &lt;lgl&gt; |\n",
              "|---|---|---|---|\n",
              "| 1 | Widget A | 20.50 |  TRUE |\n",
              "| 2 | Widget B | 35.00 | FALSE |\n",
              "| 3 | Widget C | 12.75 |  TRUE |\n",
              "\n",
              "\n",
              "\n",
              "\n"
            ],
            "text/plain": [
              "$Students\n",
              "  ID    Name Score\n",
              "1  1   Alice    85\n",
              "2  2     Bob    90\n",
              "3  3 Charlie    95\n",
              "\n",
              "$Inventory\n",
              "   Product Price In Stock\n",
              "1 Widget A 20.50     TRUE\n",
              "2 Widget B 35.00    FALSE\n",
              "3 Widget C 12.75     TRUE\n"
            ]
          },
          "metadata": {},
          "output_type": "display_data"
        }
      ],
      "source": [
        "head(all_sheets)"
      ]
    },
    {
      "cell_type": "code",
      "execution_count": null,
      "id": "de4935f1-3146-4e86-90e6-3b20f2107447",
      "metadata": {
        "id": "de4935f1-3146-4e86-90e6-3b20f2107447",
        "outputId": "2c5a6efd-cd1e-4cab-a82d-8b3649657222"
      },
      "outputs": [
        {
          "data": {
            "text/html": [
              "<table class=\"dataframe\">\n",
              "<caption>A data.frame: 3 × 3</caption>\n",
              "<thead>\n",
              "\t<tr><th></th><th scope=col>Product</th><th scope=col>Price</th><th scope=col>In Stock</th></tr>\n",
              "\t<tr><th></th><th scope=col>&lt;chr&gt;</th><th scope=col>&lt;dbl&gt;</th><th scope=col>&lt;lgl&gt;</th></tr>\n",
              "</thead>\n",
              "<tbody>\n",
              "\t<tr><th scope=row>1</th><td>Widget A</td><td>20.50</td><td> TRUE</td></tr>\n",
              "\t<tr><th scope=row>2</th><td>Widget B</td><td>35.00</td><td>FALSE</td></tr>\n",
              "\t<tr><th scope=row>3</th><td>Widget C</td><td>12.75</td><td> TRUE</td></tr>\n",
              "</tbody>\n",
              "</table>\n"
            ],
            "text/latex": [
              "A data.frame: 3 × 3\n",
              "\\begin{tabular}{r|lll}\n",
              "  & Product & Price & In Stock\\\\\n",
              "  & <chr> & <dbl> & <lgl>\\\\\n",
              "\\hline\n",
              "\t1 & Widget A & 20.50 &  TRUE\\\\\n",
              "\t2 & Widget B & 35.00 & FALSE\\\\\n",
              "\t3 & Widget C & 12.75 &  TRUE\\\\\n",
              "\\end{tabular}\n"
            ],
            "text/markdown": [
              "\n",
              "A data.frame: 3 × 3\n",
              "\n",
              "| <!--/--> | Product &lt;chr&gt; | Price &lt;dbl&gt; | In Stock &lt;lgl&gt; |\n",
              "|---|---|---|---|\n",
              "| 1 | Widget A | 20.50 |  TRUE |\n",
              "| 2 | Widget B | 35.00 | FALSE |\n",
              "| 3 | Widget C | 12.75 |  TRUE |\n",
              "\n"
            ],
            "text/plain": [
              "  Product  Price In Stock\n",
              "1 Widget A 20.50  TRUE   \n",
              "2 Widget B 35.00 FALSE   \n",
              "3 Widget C 12.75  TRUE   "
            ]
          },
          "metadata": {},
          "output_type": "display_data"
        }
      ],
      "source": [
        "head(all_sheets$Inventory)"
      ]
    },
    {
      "cell_type": "code",
      "execution_count": null,
      "id": "f646cddf-2946-4aaf-976d-9cab84d3d4c1",
      "metadata": {
        "id": "f646cddf-2946-4aaf-976d-9cab84d3d4c1"
      },
      "outputs": [],
      "source": [
        "library(tidyverse)"
      ]
    },
    {
      "cell_type": "code",
      "execution_count": null,
      "id": "a6e9f05e-e63c-477d-b1fb-d57f0731b1a1",
      "metadata": {
        "id": "a6e9f05e-e63c-477d-b1fb-d57f0731b1a1"
      },
      "outputs": [],
      "source": [
        "Inventory <- tibble(all_sheets$Inventory)"
      ]
    },
    {
      "cell_type": "code",
      "execution_count": null,
      "id": "d2f14f68-5b0c-4f5b-b06f-6956f451b930",
      "metadata": {
        "id": "d2f14f68-5b0c-4f5b-b06f-6956f451b930",
        "outputId": "48a69887-8256-4ed6-abae-603bef27592e"
      },
      "outputs": [
        {
          "data": {
            "text/html": [
              "<table class=\"dataframe\">\n",
              "<caption>A tibble: 3 × 3</caption>\n",
              "<thead>\n",
              "\t<tr><th scope=col>Product</th><th scope=col>Price</th><th scope=col>In Stock</th></tr>\n",
              "\t<tr><th scope=col>&lt;chr&gt;</th><th scope=col>&lt;dbl&gt;</th><th scope=col>&lt;lgl&gt;</th></tr>\n",
              "</thead>\n",
              "<tbody>\n",
              "\t<tr><td>Widget A</td><td>20.50</td><td> TRUE</td></tr>\n",
              "\t<tr><td>Widget B</td><td>35.00</td><td>FALSE</td></tr>\n",
              "\t<tr><td>Widget C</td><td>12.75</td><td> TRUE</td></tr>\n",
              "</tbody>\n",
              "</table>\n"
            ],
            "text/latex": [
              "A tibble: 3 × 3\n",
              "\\begin{tabular}{lll}\n",
              " Product & Price & In Stock\\\\\n",
              " <chr> & <dbl> & <lgl>\\\\\n",
              "\\hline\n",
              "\t Widget A & 20.50 &  TRUE\\\\\n",
              "\t Widget B & 35.00 & FALSE\\\\\n",
              "\t Widget C & 12.75 &  TRUE\\\\\n",
              "\\end{tabular}\n"
            ],
            "text/markdown": [
              "\n",
              "A tibble: 3 × 3\n",
              "\n",
              "| Product &lt;chr&gt; | Price &lt;dbl&gt; | In Stock &lt;lgl&gt; |\n",
              "|---|---|---|\n",
              "| Widget A | 20.50 |  TRUE |\n",
              "| Widget B | 35.00 | FALSE |\n",
              "| Widget C | 12.75 |  TRUE |\n",
              "\n"
            ],
            "text/plain": [
              "  Product  Price In Stock\n",
              "1 Widget A 20.50  TRUE   \n",
              "2 Widget B 35.00 FALSE   \n",
              "3 Widget C 12.75  TRUE   "
            ]
          },
          "metadata": {},
          "output_type": "display_data"
        }
      ],
      "source": [
        "Inventory"
      ]
    },
    {
      "cell_type": "markdown",
      "id": "834d30ec-db8b-4b01-bf62-bd5f8e33f711",
      "metadata": {
        "id": "834d30ec-db8b-4b01-bf62-bd5f8e33f711"
      },
      "source": [
        "   "
      ]
    },
    {
      "cell_type": "markdown",
      "id": "2b44c529-327c-442f-b23e-3edb11fa8a8d",
      "metadata": {
        "id": "2b44c529-327c-442f-b23e-3edb11fa8a8d"
      },
      "source": [
        "  "
      ]
    },
    {
      "cell_type": "markdown",
      "id": "f21cf418-c9ba-492c-abb6-114ceb5613dd",
      "metadata": {
        "id": "f21cf418-c9ba-492c-abb6-114ceb5613dd"
      },
      "source": [
        "**Import all CSV files from a directory as separate DataFrames.**"
      ]
    },
    {
      "cell_type": "code",
      "execution_count": null,
      "id": "8cdb60ee-1419-4406-9abc-5b9a35bc49b7",
      "metadata": {
        "id": "8cdb60ee-1419-4406-9abc-5b9a35bc49b7"
      },
      "outputs": [],
      "source": [
        "paths <- Sys.glob(\"*.csv\")"
      ]
    },
    {
      "cell_type": "code",
      "execution_count": null,
      "id": "68bae0ea-f229-4e02-bfea-725dfea186cf",
      "metadata": {
        "id": "68bae0ea-f229-4e02-bfea-725dfea186cf"
      },
      "outputs": [],
      "source": []
    },
    {
      "cell_type": "markdown",
      "id": "31314fa4-741f-437d-b8f0-7cd8d3ecf605",
      "metadata": {
        "id": "31314fa4-741f-437d-b8f0-7cd8d3ecf605"
      },
      "source": [
        "**Get the list of the data**"
      ]
    },
    {
      "cell_type": "code",
      "execution_count": null,
      "id": "043256ee-ca29-4ce5-8633-1f700e8f07c6",
      "metadata": {
        "id": "043256ee-ca29-4ce5-8633-1f700e8f07c6",
        "outputId": "93665386-b907-4a3c-a4da-36a7e980e57c"
      },
      "outputs": [
        {
          "name": "stdout",
          "output_type": "stream",
          "text": [
            "List of 18\n",
            " $ adverse :'data.frame':\t9 obs. of  29 variables:\n",
            "  ..$ V1         : int [1:9] 1 2 3 4 5 6 7 8 9\n",
            "  ..$ study      : chr [1:9] \"STU001\" \"STU001\" \"STU001\" \"STU001\" ...\n",
            "  ..$ pt         : int [1:9] 1001 1003 1004 1004 1004 1004 1005 1006 1007\n",
            "  ..$ aecat      : chr [1:9] \"General Adverse Event\" \"General Adverse Event\" \"General Adverse Event\" \"General Adverse Event\" ...\n",
            "  ..$ aevt       : chr [1:9] \"nausea\" \"CARDIAC ARREST\" \"nausea\" \"PAIN ABDOMINAL\" ...\n",
            "  ..$ prefdose   : chr [1:9] \"Y\" \"Y\" \"Y\" \"Y\" ...\n",
            "  ..$ aestdt_raw : chr [1:9] \"01/JAN/2010\" \"05/JAN/2010\" \"01/JAN/2010\" \"03/JAN/2010\" ...\n",
            "  ..$ aeendt_raw : chr [1:9] \"01/JAN/2010\" \"05/JAN/2010\" \"01/JAN/2010\" \"07/JAN/2010\" ...\n",
            "  ..$ aesev      : chr [1:9] \"Mild\" \"Severe\" \"Mild\" \"Mild\" ...\n",
            "  ..$ aerel      : chr [1:9] \"No\" \"No\" \"No\" \"No\" ...\n",
            "  ..$ aeacn      : chr [1:9] \"No action taken\" \"No action taken\" \"No action taken\" \"No action taken\" ...\n",
            "  ..$ aeacnoth   : chr [1:9] \"\" \"\" \"\" \"\" ...\n",
            "  ..$ aeser      : chr [1:9] \"No\" \"Yes\" \"No\" \"No\" ...\n",
            "  ..$ sdeath     : chr [1:9] \"\" \"Yes\" \"\" \"\" ...\n",
            "  ..$ slife      : logi [1:9] NA NA NA NA NA NA ...\n",
            "  ..$ shosp      : chr [1:9] \"\" \"\" \"\" \"\" ...\n",
            "  ..$ sdisab     : logi [1:9] NA NA NA NA NA NA ...\n",
            "  ..$ scong      : logi [1:9] NA NA NA NA NA NA ...\n",
            "  ..$ smie       : logi [1:9] NA NA NA NA NA NA ...\n",
            "  ..$ aeout      : chr [1:9] \"Recovered/Resolved\" \"FATAL\" \"Recovered/Resolved\" \"Recovered/Resolved\" ...\n",
            "  ..$ hadmtdt_raw: chr [1:9] \"\" \"5/JAN/2010\" \"\" \"\" ...\n",
            "  ..$ hadmttm_raw: logi [1:9] NA NA NA NA NA NA ...\n",
            "  ..$ hdsdt_raw  : chr [1:9] \"\" \"5/JAN/2010\" \"\" \"\" ...\n",
            "  ..$ hdstm_raw  : logi [1:9] NA NA NA NA NA NA ...\n",
            "  ..$ aellt      : chr [1:9] \"\" \"Cardiac arrest\" \"Nausea\" \"Pain abdominal\" ...\n",
            "  ..$ aedecod    : chr [1:9] \"\" \"Cardiac arrest\" \"Nausea\" \"Abdominal pain\" ...\n",
            "  ..$ aehlt      : logi [1:9] NA NA NA NA NA NA ...\n",
            "  ..$ aehlgt     : logi [1:9] NA NA NA NA NA NA ...\n",
            "  ..$ aebodsys   : chr [1:9] \"\" \"Cardiac disorders\" \"Gastrointestinal disorders\" \"Gastrointestinal disorders\" ...\n",
            "  ..- attr(*, \"filename\")= chr \"adverse.csv\"\n",
            " $ box     :'data.frame':\t16 obs. of  3 variables:\n",
            "  ..$ V1     : int [1:16] 1 2 3 4 5 6 7 8 9 10 ...\n",
            "  ..$ kitid  : int [1:16] 13434371 52970539 52120567 59305202 13787377 65580239 45377264 39024101 65845489 66223983 ...\n",
            "  ..$ content: chr [1:16] \"ACTIVE\" \"ACTIVE\" \"ACTIVE\" \"ACTIVE\" ...\n",
            "  ..- attr(*, \"filename\")= chr \"box.csv\"\n",
            " $ conmeds :'data.frame':\t3 obs. of  13 variables:\n",
            "  ..$ V1        : int [1:3] 1 2 3\n",
            "  ..$ study     : chr [1:3] \"STU001\" \"STU001\" \"STU001\"\n",
            "  ..$ pt        : int [1:3] 1004 1006 1007\n",
            "  ..$ cmcat     : chr [1:3] \"General\" \"\" \"General\"\n",
            "  ..$ cmvt      : chr [1:3] \"OMEPRAZOLE\" \"PARACETAMOL\" \"LOPERAMIDE\"\n",
            "  ..$ cmpt      : chr [1:3] \"Omeprazole\" \"Paracetamol\" \"Loperamide\"\n",
            "  ..$ cmindc    : chr [1:3] \"GASTRITIS\" \"AE MID LOWER BACK PAIN\" \"DIARRHEA\"\n",
            "  ..$ cmdose_raw: int [1:3] 20 750 2\n",
            "  ..$ cmdosu_raw: chr [1:3] \"Milligram\" \"Milligram\" \"Milligram\"\n",
            "  ..$ cmdosfrq  : chr [1:3] \"Daily\" \"As needed\" \"Daily\"\n",
            "  ..$ route     : chr [1:3] \"Oral\" \"Oral\" \"Oral\"\n",
            "  ..$ cmstdt_raw: chr [1:3] \"UN/UNK/2007\" \"6/MAR/2010\" \"10/MAY/2010\"\n",
            "  ..$ cmendt_raw: chr [1:3] \"\" \"25/MAR/2010\" \"12/MAY/2010\"\n",
            "  ..- attr(*, \"filename\")= chr \"conmeds.csv\"\n",
            " $ demog   :'data.frame':\t8 obs. of  14 variables:\n",
            "  ..$ V1        : int [1:8] 1 2 3 4 5 6 7 8\n",
            "  ..$ study     : chr [1:8] \"STU001\" \"STU001\" \"STU001\" \"STU001\" ...\n",
            "  ..$ pt        : int [1:8] 1001 1002 1003 1004 1005 1006 1007 1008\n",
            "  ..$ sex       : chr [1:8] \"Male\" \"Female\" \"Male\" \"Male\" ...\n",
            "  ..$ ethnic    : chr [1:8] \"Hispanic or Latino\" \"Not Hispanic or Latino\" \"Hispanic or Latino\" \"Hispanic or Latino\" ...\n",
            "  ..$ race      : chr [1:8] \"White\" \"Asian\" \"Other\" \"White\" ...\n",
            "  ..$ race2     : chr [1:8] \"\" \"American Indian or Alaska Native\" \"\" \"\" ...\n",
            "  ..$ race3     : logi [1:8] NA NA NA NA NA NA ...\n",
            "  ..$ race4     : logi [1:8] NA NA NA NA NA NA ...\n",
            "  ..$ racesp    : chr [1:8] \"\" \"\" \"BRAZILIAN\" \"\" ...\n",
            "  ..$ age_raw   : int [1:8] 35 40 40 38 64 75 32 83\n",
            "  ..$ age_rawu  : chr [1:8] \"Years\" \"Years\" \"Years\" \"Years\" ...\n",
            "  ..$ brthdt_raw: logi [1:8] NA NA NA NA NA NA ...\n",
            "  ..$ country   : chr [1:8] \"USA\" \"USA\" \"USA\" \"USA\" ...\n",
            "  ..- attr(*, \"filename\")= chr \"demog.csv\"\n",
            " $ ecg     :'data.frame':\t5 obs. of  15 variables:\n",
            "  ..$ V1      : int [1:5] 1 2 3 4 5\n",
            "  ..$ study   : chr [1:5] \"STU001\" \"STU001\" \"STU001\" \"STU001\" ...\n",
            "  ..$ pt      : int [1:5] 1004 1005 1005 1006 1007\n",
            "  ..$ folder  : chr [1:5] \"SCR\" \"SCR\" \"UNS_ECG\" \"SCR\" ...\n",
            "  ..$ egdt_raw: chr [1:5] \"4/JAN/2010\" \"5/FEB/2010\" \"22/FEB/2010\" \"1/MAR/2010\" ...\n",
            "  ..$ egscat  : chr [1:5] \"SOC\" \"SOC\" \"SOC\" \"SOC\" ...\n",
            "  ..$ egmethod: chr [1:5] \"12 Lead\" \"12 Lead\" \"12 Lead\" \"12 Lead\" ...\n",
            "  ..$ egloc   : chr [1:5] \"Heart\" \"Heart\" \"Heart\" \"Heart\" ...\n",
            "  ..$ pr_raw  : int [1:5] 80 180 190 142 152\n",
            "  ..$ qrs_raw : int [1:5] 88 80 90 76 108\n",
            "  ..$ qt_raw  : int [1:5] 409 360 376 389 396\n",
            "  ..$ qtc_raw : int [1:5] 385 392 408 411 441\n",
            "  ..$ hr_raw  : int [1:5] 59 76 81 71 74\n",
            "  ..$ egintp  : chr [1:5] \"Normal\" \"Normal\" \"Normal\" \"Normal\" ...\n",
            "  ..$ egintpsp: chr [1:5] \"\" \"\" \"\" \"\" ...\n",
            "  ..- attr(*, \"filename\")= chr \"ecg.csv\"\n",
            " $ eligcrit:'data.frame':\t3 obs. of  6 variables:\n",
            "  ..$ V1     : int [1:3] 1 2 3\n",
            "  ..$ study  : chr [1:3] \"STU001\" \"STU001\" \"STU001\"\n",
            "  ..$ pt     : int [1:3] 1001 1001 1004\n",
            "  ..$ folder : chr [1:3] \"SCR\" \"SCR\" \"SCR\"\n",
            "  ..$ elignum: chr [1:3] \"INCL103\" \"EXCL103\" \"EXCL105\"\n",
            "  ..$ eligsp : logi [1:3] NA NA NA\n",
            "  ..- attr(*, \"filename\")= chr \"eligcrit.csv\"\n",
            " $ enrlment:'data.frame':\t8 obs. of  10 variables:\n",
            "  ..$ V1        : int [1:8] 1 2 3 4 5 6 7 8\n",
            "  ..$ study     : chr [1:8] \"STU001\" \"STU001\" \"STU001\" \"STU001\" ...\n",
            "  ..$ pt        : int [1:8] 1001 1002 1003 1004 1005 1006 1007 1008\n",
            "  ..$ folder    : chr [1:8] \"SCR\" \"SCR\" \"SCR\" \"SCR\" ...\n",
            "  ..$ icdt_raw  : chr [1:8] \"1/JAN/2010\" \"1/JAN/2010\" \"1/JAN/2010\" \"1/JAN/2010\" ...\n",
            "  ..$ icvers    : int [1:8] 1 1 1 1 1 1 2 2\n",
            "  ..$ prtvers   : int [1:8] 1 1 1 1 1 1 2 3\n",
            "  ..$ enrldt_raw: chr [1:8] \"\" \"4/JAN/2010\" \"3/JAN/2010\" \"4/JAN/2010\" ...\n",
            "  ..$ randdt_raw: chr [1:8] \"\" \"\" \"3/JAN/2010\" \"5/JAN/2010\" ...\n",
            "  ..$ randno    : int [1:8] NA NA 514876 101415 306185 987435 98745 123098\n",
            "  ..- attr(*, \"filename\")= chr \"enrlment.csv\"\n",
            " $ eoip    :'data.frame':\t4 obs. of  7 variables:\n",
            "  ..$ V1        : int [1:4] 1 2 3 4\n",
            "  ..$ study     : chr [1:4] \"STU001\" \"STU001\" \"STU001\" \"STU001\"\n",
            "  ..$ pt        : int [1:4] 1004 1006 1007 1008\n",
            "  ..$ eoscat    : chr [1:4] \"End of Treatment\" \"End of Treatment\" \"End of Treatment\" \"End of Treatment\"\n",
            "  ..$ eotype    : logi [1:4] NA NA NA NA\n",
            "  ..$ eostdt_raw: chr [1:4] \"25/JAN/2010\" \"25/MAR/2010\" \"6/MAY/2010\" \"15/JUL/2010\"\n",
            "  ..$ eoterm    : chr [1:4] \"Completed\" \"Adverse Event\" \"Completed\" \"Subject Request\"\n",
            "  ..- attr(*, \"filename\")= chr \"eoip.csv\"\n",
            " $ eos     :'data.frame':\t6 obs. of  7 variables:\n",
            "  ..$ V1        : int [1:6] 1 2 3 4 5 6\n",
            "  ..$ study     : chr [1:6] \"STU001\" \"STU001\" \"STU001\" \"STU001\" ...\n",
            "  ..$ pt        : int [1:6] 1002 1003 1004 1006 1007 1008\n",
            "  ..$ eoscat    : chr [1:6] \"End of Study\" \"End of Study\" \"End of Study\" \"End of Study\" ...\n",
            "  ..$ eotype    : logi [1:6] NA NA NA NA NA NA\n",
            "  ..$ eostdt_raw: chr [1:6] \"5/JAN/2010\" \"5/JAN/2010\" \"28/FEB/2010\" \"25/MAR/2010\" ...\n",
            "  ..$ eoterm    : chr [1:6] \"Withdrawl of consent\" \"Death\" \"Completed\" \"Adverse Event\" ...\n",
            "  ..- attr(*, \"filename\")= chr \"eos.csv\"\n",
            " $ eq5d3l  :'data.frame':\t2 obs. of  13 variables:\n",
            "  ..$ V1    : int [1:2] 1 2\n",
            "  ..$ study : chr [1:2] \"STU001\" \"STU001\"\n",
            "  ..$ pt    : int [1:2] 1004 1004\n",
            "  ..$ folder: chr [1:2] \"SCR\" \"WEEK 2\"\n",
            "  ..$ dt_raw: chr [1:2] \"03/JAN/2010\" \"12/JAN/2010\"\n",
            "  ..$ stat  : logi [1:2] NA NA\n",
            "  ..$ reasnd: logi [1:2] NA NA\n",
            "  ..$ eq5d01: chr [1:2] \"I have no problems in walking about\" \"I have no problems in walking about\"\n",
            "  ..$ eq5d02: chr [1:2] \"I have no problems with self-care\" \"I have no problems with self-care\"\n",
            "  ..$ eq5d03: chr [1:2] \"I have no problems with performing my usual activities\" \"I have no problems with performing my usual activities\"\n",
            "  ..$ eq5d04: chr [1:2] \"I have no pain or discomfort\" \"I have no pain or discomfort\"\n",
            "  ..$ eq5d05: chr [1:2] \"I am not anxious or depressed\" \"I am moderately anxious or depressed\"\n",
            "  ..$ eq5d06: int [1:2] 95 87\n",
            "  ..- attr(*, \"filename\")= chr \"eq5d3l.csv\"\n",
            " $ hosp    :'data.frame':\t1 obs. of  9 variables:\n",
            "  ..$ V1: logi NA\n",
            "  ..$ V2: chr \"study\"\n",
            "  ..$ V3: chr \"pt\"\n",
            "  ..$ V4: chr \"stdt_raw\"\n",
            "  ..$ V5: chr \"sttm_raw\"\n",
            "  ..$ V6: chr \"endt_raw\"\n",
            "  ..$ V7: chr \"entm_raw\"\n",
            "  ..$ V8: chr \"rsn\"\n",
            "  ..$ V9: chr \"unit\"\n",
            "  ..- attr(*, \"filename\")= chr \"hosp.csv\"\n",
            " $ ipadmin :'data.frame':\t16 obs. of  11 variables:\n",
            "  ..$ V1        : int [1:16] 1 2 3 4 5 6 7 8 9 10 ...\n",
            "  ..$ study     : chr [1:16] \"STU001\" \"STU001\" \"STU001\" \"STU001\" ...\n",
            "  ..$ pt        : int [1:16] 1004 1004 1004 1004 1005 1005 1005 1006 1006 1007 ...\n",
            "  ..$ folder    : chr [1:16] \"WEEK 1\" \"WEEK 2\" \"WEEK 3\" \"WEEK 4\" ...\n",
            "  ..$ ipconc    : int [1:16] 500 500 500 500 500 500 500 500 500 500 ...\n",
            "  ..$ ipstdt_raw: chr [1:16] \"05/JAN/2010\" \"12/JAN/2010\" \"18/JAN/2010\" \"25/JAN/2010\" ...\n",
            "  ..$ ipsttm_raw: chr [1:16] \"8:35\" \"8:35\" \"9:30\" \"8:45\" ...\n",
            "  ..$ ipqty_raw : num [1:16] 2 2 1 2 2 2 0 1.9 2 2 ...\n",
            "  ..$ ipqtyu    : chr [1:16] \"mL\" \"mL\" \"mL\" \"mL\" ...\n",
            "  ..$ ipadj     : chr [1:16] \"\" \"\" \"Adverse Event\" \"\" ...\n",
            "  ..$ ipboxid   : int [1:16] 13434371 52970539 52120567 59305202 13787377 65580239 45377264 39024101 65845489 66223983 ...\n",
            "  ..- attr(*, \"filename\")= chr \"ipadmin.csv\"\n",
            " $ lab_chem:'data.frame':\t504 obs. of  12 variables:\n",
            "  ..$ V1       : int [1:504] 1 2 3 4 5 6 7 8 9 10 ...\n",
            "  ..$ study    : chr [1:504] \"STU001\" \"STU001\" \"STU001\" \"STU001\" ...\n",
            "  ..$ pt       : int [1:504] 1004 1004 1004 1004 1004 1004 1004 1004 1004 1004 ...\n",
            "  ..$ folder   : chr [1:504] \"SCR\" \"SCR\" \"SCR\" \"SCR\" ...\n",
            "  ..$ lbdt_raw : chr [1:504] \"02/Jan/2010\" \"02/Jan/2010\" \"02/Jan/2010\" \"02/Jan/2010\" ...\n",
            "  ..$ lbtm_raw : logi [1:504] NA NA NA NA NA NA ...\n",
            "  ..$ test     : chr [1:504] \"ALB\" \"ALP\" \"ALT\" \"AMYLASE\" ...\n",
            "  ..$ specimen : chr [1:504] \"Serum\" \"Serum\" \"Serum\" \"Serum\" ...\n",
            "  ..$ coll_rslt: num [1:504] 3 10299 2395 7485 1078 ...\n",
            "  ..$ coll_unit: chr [1:504] \"g/dL\" \"U/L\" \"U/L\" \"U/L\" ...\n",
            "  ..$ lower    : num [1:504] 4 2994 599 3174 599 ...\n",
            "  ..$ upper    : num [1:504] 6 9581 2395 7365 2395 ...\n",
            "  ..- attr(*, \"filename\")= chr \"lab_chem.csv\"\n",
            " $ lab_hema:'data.frame':\t336 obs. of  11 variables:\n",
            "  ..$ V1       : int [1:336] 1 2 3 4 5 6 7 8 9 10 ...\n",
            "  ..$ study    : chr [1:336] \"STU001\" \"STU001\" \"STU001\" \"STU001\" ...\n",
            "  ..$ pt       : int [1:336] 1004 1004 1004 1004 1004 1004 1004 1004 1004 1004 ...\n",
            "  ..$ folder   : chr [1:336] \"SCR\" \"SCR\" \"SCR\" \"SCR\" ...\n",
            "  ..$ lbdt_raw : chr [1:336] \"02/Jan/2010\" \"02/Jan/2010\" \"02/Jan/2010\" \"02/Jan/2010\" ...\n",
            "  ..$ test     : chr [1:336] \"BASO\" \"EOS\" \"FIBRINO\" \"HCT\" ...\n",
            "  ..$ specimen : chr [1:336] \"Whole blood\" \"Whole blood\" \"Plasma\" \"Whole blood\" ...\n",
            "  ..$ coll_rslt: num [1:336] 1000 2100 260 50 19 36000 30 39 103 3000 ...\n",
            "  ..$ coll_unit: chr [1:336] \"/uL\" \"/uL\" \"mg/dL\" \"%\" ...\n",
            "  ..$ lower    : num [1:336] 0 500 150 38 14 10000 27 33 80 2000 ...\n",
            "  ..$ upper    : num [1:336] 1000 3000 350 54 18 40000 32 36 94 8000 ...\n",
            "  ..- attr(*, \"filename\")= chr \"lab_hema.csv\"\n",
            " $ physmeas:'data.frame':\t4 obs. of  9 variables:\n",
            "  ..$ V1        : int [1:4] 1 2 3 4\n",
            "  ..$ study     : chr [1:4] \"STU001\" \"STU001\" \"STU001\" \"STU001\"\n",
            "  ..$ pt        : int [1:4] 1004 1005 1006 1007\n",
            "  ..$ folder    : chr [1:4] \"SCR\" \"SCR\" \"SCR\" \"SCR\"\n",
            "  ..$ pmdt_raw  : chr [1:4] \"4/JAN/2010\" \"5/FEB/2010\" \"1/MAR/2010\" \"13/APR/2010\"\n",
            "  ..$ height_raw: num [1:4] 177 66.1 160 178\n",
            "  ..$ heightu   : chr [1:4] \"Centimeters\" \"Centimeters\" \"Centimeters\" \"Centimeters\"\n",
            "  ..$ weight_raw: num [1:4] 87.3 76.1 60.9 85.4\n",
            "  ..$ weightu   : chr [1:4] \"Kilogram\" \"Kilogram\" \"Kilogram\" \"Kilogram\"\n",
            "  ..- attr(*, \"filename\")= chr \"physmeas.csv\"\n",
            " $ rand    :'data.frame':\t6 obs. of  5 variables:\n",
            "  ..$ V1     : int [1:6] 1 2 3 4 5 6\n",
            "  ..$ rand_id: int [1:6] 514876 101415 306185 987435 98745 123098\n",
            "  ..$ tx_cd  : chr [1:6] \"PBO\" \"ACTIVE\" \"ACTIVE\" \"PBO\" ...\n",
            "  ..$ cohort : int [1:6] 1 1 1 2 2 2\n",
            "  ..$ strata : chr [1:6] \"Dummy strata1\" \"Dummy strata1\" \"Dummy strata1\" \"Dummy strata2\" ...\n",
            "  ..- attr(*, \"filename\")= chr \"rand.csv\"\n",
            " $ surg    :'data.frame':\t1 obs. of  8 variables:\n",
            "  ..$ V1        : int 1\n",
            "  ..$ study     : chr \"STU001\"\n",
            "  ..$ pt        : int 1005\n",
            "  ..$ surgdt_raw: chr \"20/FEB/2010\"\n",
            "  ..$ surgery   : chr \"Cholecystectomy\"\n",
            "  ..$ surgreas  : chr \"Curative\"\n",
            "  ..$ sreassp   : logi NA\n",
            "  ..$ surgindic : chr \"Gallstones\"\n",
            "  ..- attr(*, \"filename\")= chr \"surg.csv\"\n",
            " $ vitals  :'data.frame':\t9 obs. of  13 variables:\n",
            "  ..$ V1       : int [1:9] 1 2 3 4 5 6 7 8 9\n",
            "  ..$ study    : chr [1:9] \"STU001\" \"STU001\" \"STU001\" \"STU001\" ...\n",
            "  ..$ pt       : int [1:9] 1004 1004 1005 1005 1005 1006 1006 1007 1007\n",
            "  ..$ folder   : chr [1:9] \"SCR\" \"WEEK 2\" \"SCR\" \"WEEK 2\" ...\n",
            "  ..$ vsdt_raw : chr [1:9] \"02/JAN/2010\" \"12/JAN/2010\" \"5/FEB/2010\" \"12/FEB/2010\" ...\n",
            "  ..$ sysbp_raw: int [1:9] 122 120 120 125 130 133 115 120 140\n",
            "  ..$ diabp_raw: int [1:9] 72 82 85 87 90 87 68 80 80\n",
            "  ..$ pos      : chr [1:9] \"Supine\" \"Supine\" \"Sitting\" \"Sitting\" ...\n",
            "  ..$ hr_raw   : int [1:9] 79 87 68 69 75 74 65 75 80\n",
            "  ..$ resp_raw : int [1:9] 24 20 14 15 18 20 21 21 NA\n",
            "  ..$ temp_raw : num [1:9] 34.8 35.3 98.1 36.6 37 ...\n",
            "  ..$ tempu    : chr [1:9] \"Celsius\" \"Celsius\" \"Fahrenheit\" \"Celsius\" ...\n",
            "  ..$ temploc  : chr [1:9] \"Axilla\" \"Axilla\" \"Axilla\" \"Axilla\" ...\n",
            "  ..- attr(*, \"filename\")= chr \"vitals.csv\"\n"
          ]
        }
      ],
      "source": [
        "all_csv_data <- import_list(paths)\n",
        "\n",
        "str(all_csv_data)"
      ]
    },
    {
      "cell_type": "code",
      "execution_count": null,
      "id": "0333944c-00f9-4460-9fc4-b101040ec5c3",
      "metadata": {
        "id": "0333944c-00f9-4460-9fc4-b101040ec5c3"
      },
      "outputs": [],
      "source": [
        "lab_hema <- tibble(all_csv_data$lab_hema)"
      ]
    },
    {
      "cell_type": "code",
      "execution_count": null,
      "id": "8ea41455-c43a-4401-96f2-cc986284120d",
      "metadata": {
        "scrolled": true,
        "id": "8ea41455-c43a-4401-96f2-cc986284120d",
        "outputId": "d59160ea-8163-4521-8a5e-07d278e3dd3c"
      },
      "outputs": [
        {
          "data": {
            "text/html": [
              "<table class=\"dataframe\">\n",
              "<caption>A tibble: 336 × 11</caption>\n",
              "<thead>\n",
              "\t<tr><th scope=col>V1</th><th scope=col>study</th><th scope=col>pt</th><th scope=col>folder</th><th scope=col>lbdt_raw</th><th scope=col>test</th><th scope=col>specimen</th><th scope=col>coll_rslt</th><th scope=col>coll_unit</th><th scope=col>lower</th><th scope=col>upper</th></tr>\n",
              "\t<tr><th scope=col>&lt;int&gt;</th><th scope=col>&lt;chr&gt;</th><th scope=col>&lt;int&gt;</th><th scope=col>&lt;chr&gt;</th><th scope=col>&lt;chr&gt;</th><th scope=col>&lt;chr&gt;</th><th scope=col>&lt;chr&gt;</th><th scope=col>&lt;dbl&gt;</th><th scope=col>&lt;chr&gt;</th><th scope=col>&lt;dbl&gt;</th><th scope=col>&lt;dbl&gt;</th></tr>\n",
              "</thead>\n",
              "<tbody>\n",
              "\t<tr><td> 1</td><td>STU001</td><td>1004</td><td>SCR   </td><td>02/Jan/2010</td><td>BASO   </td><td>Whole blood</td><td> 1000.00</td><td>/uL     </td><td>0.0e+00</td><td>1.0e+03</td></tr>\n",
              "\t<tr><td> 2</td><td>STU001</td><td>1004</td><td>SCR   </td><td>02/Jan/2010</td><td>EOS    </td><td>Whole blood</td><td> 2100.00</td><td>/uL     </td><td>5.0e+02</td><td>3.0e+03</td></tr>\n",
              "\t<tr><td> 3</td><td>STU001</td><td>1004</td><td>SCR   </td><td>02/Jan/2010</td><td>FIBRINO</td><td>Plasma     </td><td>  260.00</td><td>mg/dL   </td><td>1.5e+02</td><td>3.5e+02</td></tr>\n",
              "\t<tr><td> 4</td><td>STU001</td><td>1004</td><td>SCR   </td><td>02/Jan/2010</td><td>HCT    </td><td>Whole blood</td><td>   50.00</td><td>%       </td><td>3.8e+01</td><td>5.4e+01</td></tr>\n",
              "\t<tr><td> 5</td><td>STU001</td><td>1004</td><td>SCR   </td><td>02/Jan/2010</td><td>HGB    </td><td>Whole blood</td><td>   19.00</td><td>g/dL    </td><td>1.4e+01</td><td>1.8e+01</td></tr>\n",
              "\t<tr><td> 6</td><td>STU001</td><td>1004</td><td>SCR   </td><td>02/Jan/2010</td><td>LYM    </td><td>Whole blood</td><td>36000.00</td><td>/uL     </td><td>1.0e+04</td><td>4.0e+04</td></tr>\n",
              "\t<tr><td> 7</td><td>STU001</td><td>1004</td><td>SCR   </td><td>02/Jan/2010</td><td>MCH    </td><td>Whole blood</td><td>   30.00</td><td>pg/cell </td><td>2.7e+01</td><td>3.2e+01</td></tr>\n",
              "\t<tr><td> 8</td><td>STU001</td><td>1004</td><td>SCR   </td><td>02/Jan/2010</td><td>MCHC   </td><td>Whole blood</td><td>   39.00</td><td>g/dL    </td><td>3.3e+01</td><td>3.6e+01</td></tr>\n",
              "\t<tr><td> 9</td><td>STU001</td><td>1004</td><td>SCR   </td><td>02/Jan/2010</td><td>MCV    </td><td>Whole blood</td><td>  103.00</td><td>um^3    </td><td>8.0e+01</td><td>9.4e+01</td></tr>\n",
              "\t<tr><td>10</td><td>STU001</td><td>1004</td><td>SCR   </td><td>02/Jan/2010</td><td>MONO   </td><td>Whole blood</td><td> 3000.00</td><td>/uL     </td><td>2.0e+03</td><td>8.0e+03</td></tr>\n",
              "\t<tr><td>11</td><td>STU001</td><td>1004</td><td>SCR   </td><td>02/Jan/2010</td><td>NEUT   </td><td>Whole blood</td><td> 7900.00</td><td>/uL     </td><td>1.8e+03</td><td>7.5e+03</td></tr>\n",
              "\t<tr><td>12</td><td>STU001</td><td>1004</td><td>SCR   </td><td>02/Jan/2010</td><td>NEUTSG </td><td>Whole blood</td><td>53000.00</td><td>/uL     </td><td>2.5e+04</td><td>6.0e+04</td></tr>\n",
              "\t<tr><td>13</td><td>STU001</td><td>1004</td><td>SCR   </td><td>02/Jan/2010</td><td>PT     </td><td>Plasma     </td><td>   17.00</td><td>s       </td><td>1.0e+01</td><td>2.0e+01</td></tr>\n",
              "\t<tr><td>14</td><td>STU001</td><td>1004</td><td>SCR   </td><td>02/Jan/2010</td><td>RBC    </td><td>Whole blood</td><td>    0.57</td><td>10^6 /uL</td><td>4.5e-01</td><td>6.0e-01</td></tr>\n",
              "\t<tr><td>15</td><td>STU001</td><td>1004</td><td>SCR   </td><td>02/Jan/2010</td><td>RETI   </td><td>Whole blood</td><td>   60.00</td><td>10^3 /uL</td><td>2.3e+01</td><td>9.0e+01</td></tr>\n",
              "\t<tr><td>16</td><td>STU001</td><td>1004</td><td>SCR   </td><td>02/Jan/2010</td><td>WBC    </td><td>Whole blood</td><td>50000.00</td><td>/uL     </td><td>5.0e+04</td><td>1.0e+05</td></tr>\n",
              "\t<tr><td>17</td><td>STU001</td><td>1004</td><td>WEEK 1</td><td>05/Jan/2010</td><td>BASO   </td><td>Whole blood</td><td>    0.00</td><td>/uL     </td><td>0.0e+00</td><td>1.0e+03</td></tr>\n",
              "\t<tr><td>18</td><td>STU001</td><td>1004</td><td>WEEK 1</td><td>05/Jan/2010</td><td>EOS    </td><td>Whole blood</td><td> 2500.00</td><td>/uL     </td><td>5.0e+02</td><td>3.0e+03</td></tr>\n",
              "\t<tr><td>19</td><td>STU001</td><td>1004</td><td>WEEK 1</td><td>05/Jan/2010</td><td>FIBRINO</td><td>Plasma     </td><td>  140.00</td><td>mg/dL   </td><td>1.5e+02</td><td>3.5e+02</td></tr>\n",
              "\t<tr><td>20</td><td>STU001</td><td>1004</td><td>WEEK 1</td><td>05/Jan/2010</td><td>HCT    </td><td>Whole blood</td><td>   40.00</td><td>%       </td><td>3.8e+01</td><td>5.4e+01</td></tr>\n",
              "\t<tr><td>21</td><td>STU001</td><td>1004</td><td>WEEK 1</td><td>05/Jan/2010</td><td>HGB    </td><td>Whole blood</td><td>   13.00</td><td>g/dL    </td><td>1.4e+01</td><td>1.8e+01</td></tr>\n",
              "\t<tr><td>22</td><td>STU001</td><td>1004</td><td>WEEK 1</td><td>05/Jan/2010</td><td>LYM    </td><td>Whole blood</td><td>17000.00</td><td>/uL     </td><td>1.0e+04</td><td>4.0e+04</td></tr>\n",
              "\t<tr><td>23</td><td>STU001</td><td>1004</td><td>WEEK 1</td><td>05/Jan/2010</td><td>MCH    </td><td>Whole blood</td><td>   27.00</td><td>pg/cell </td><td>2.7e+01</td><td>3.2e+01</td></tr>\n",
              "\t<tr><td>24</td><td>STU001</td><td>1004</td><td>WEEK 1</td><td>05/Jan/2010</td><td>MCHC   </td><td>Whole blood</td><td>   35.00</td><td>g/dL    </td><td>3.3e+01</td><td>3.6e+01</td></tr>\n",
              "\t<tr><td>25</td><td>STU001</td><td>1004</td><td>WEEK 1</td><td>05/Jan/2010</td><td>MCV    </td><td>Whole blood</td><td>   93.00</td><td>um^3    </td><td>8.0e+01</td><td>9.4e+01</td></tr>\n",
              "\t<tr><td>26</td><td>STU001</td><td>1004</td><td>WEEK 1</td><td>05/Jan/2010</td><td>MONO   </td><td>Whole blood</td><td> 4000.00</td><td>/uL     </td><td>2.0e+03</td><td>8.0e+03</td></tr>\n",
              "\t<tr><td>27</td><td>STU001</td><td>1004</td><td>WEEK 1</td><td>05/Jan/2010</td><td>NEUT   </td><td>Whole blood</td><td> 5500.00</td><td>/uL     </td><td>1.8e+03</td><td>7.5e+03</td></tr>\n",
              "\t<tr><td>28</td><td>STU001</td><td>1004</td><td>WEEK 1</td><td>05/Jan/2010</td><td>NEUTSG </td><td>Whole blood</td><td>62000.00</td><td>/uL     </td><td>2.5e+04</td><td>6.0e+04</td></tr>\n",
              "\t<tr><td>29</td><td>STU001</td><td>1004</td><td>WEEK 1</td><td>05/Jan/2010</td><td>PT     </td><td>Plasma     </td><td>   21.00</td><td>s       </td><td>1.0e+01</td><td>2.0e+01</td></tr>\n",
              "\t<tr><td>30</td><td>STU001</td><td>1004</td><td>WEEK 1</td><td>05/Jan/2010</td><td>RBC    </td><td>Whole blood</td><td>    0.50</td><td>10^6 /uL</td><td>4.5e-01</td><td>6.0e-01</td></tr>\n",
              "\t<tr><td>...</td><td>...</td><td>...</td><td>...</td><td>...</td><td>...</td><td>...</td><td>...</td><td>...</td><td>...</td><td>...</td></tr>\n",
              "\t<tr><td>307</td><td>STU001</td><td>1008</td><td>WEEK 2</td><td>04/Jul/2010</td><td>FIBRINO</td><td>Plasma     </td><td>3.30e+02</td><td>mg/dL   </td><td>1.5e+02</td><td>3.5e+02</td></tr>\n",
              "\t<tr><td>308</td><td>STU001</td><td>1008</td><td>WEEK 2</td><td>04/Jul/2010</td><td>HCT    </td><td>Whole blood</td><td>5.10e+01</td><td>%       </td><td>3.8e+01</td><td>5.4e+01</td></tr>\n",
              "\t<tr><td>309</td><td>STU001</td><td>1008</td><td>WEEK 2</td><td>04/Jul/2010</td><td>HGB    </td><td>Whole blood</td><td>1.70e+01</td><td>g/dL    </td><td>1.4e+01</td><td>1.8e+01</td></tr>\n",
              "\t<tr><td>310</td><td>STU001</td><td>1008</td><td>WEEK 2</td><td>04/Jul/2010</td><td>LYM    </td><td>Whole blood</td><td>2.70e+04</td><td>/uL     </td><td>1.0e+04</td><td>4.0e+04</td></tr>\n",
              "\t<tr><td>311</td><td>STU001</td><td>1008</td><td>WEEK 2</td><td>04/Jul/2010</td><td>MCH    </td><td>Whole blood</td><td>3.10e+01</td><td>pg/cell </td><td>2.7e+01</td><td>3.2e+01</td></tr>\n",
              "\t<tr><td>312</td><td>STU001</td><td>1008</td><td>WEEK 2</td><td>04/Jul/2010</td><td>MCHC   </td><td>Whole blood</td><td>3.90e+01</td><td>g/dL    </td><td>3.3e+01</td><td>3.6e+01</td></tr>\n",
              "\t<tr><td>313</td><td>STU001</td><td>1008</td><td>WEEK 2</td><td>04/Jul/2010</td><td>MCV    </td><td>Whole blood</td><td>7.60e+01</td><td>um^3    </td><td>8.0e+01</td><td>9.4e+01</td></tr>\n",
              "\t<tr><td>314</td><td>STU001</td><td>1008</td><td>WEEK 2</td><td>04/Jul/2010</td><td>MONO   </td><td>Whole blood</td><td>5.00e+03</td><td>/uL     </td><td>2.0e+03</td><td>8.0e+03</td></tr>\n",
              "\t<tr><td>315</td><td>STU001</td><td>1008</td><td>WEEK 2</td><td>04/Jul/2010</td><td>NEUT   </td><td>Whole blood</td><td>4.50e+03</td><td>/uL     </td><td>1.8e+03</td><td>7.5e+03</td></tr>\n",
              "\t<tr><td>316</td><td>STU001</td><td>1008</td><td>WEEK 2</td><td>04/Jul/2010</td><td>NEUTSG </td><td>Whole blood</td><td>3.10e+04</td><td>/uL     </td><td>2.5e+04</td><td>6.0e+04</td></tr>\n",
              "\t<tr><td>317</td><td>STU001</td><td>1008</td><td>WEEK 2</td><td>04/Jul/2010</td><td>PT     </td><td>Plasma     </td><td>1.40e+01</td><td>s       </td><td>1.0e+01</td><td>2.0e+01</td></tr>\n",
              "\t<tr><td>318</td><td>STU001</td><td>1008</td><td>WEEK 2</td><td>04/Jul/2010</td><td>RBC    </td><td>Whole blood</td><td>5.10e-01</td><td>10^6 /uL</td><td>4.5e-01</td><td>6.0e-01</td></tr>\n",
              "\t<tr><td>319</td><td>STU001</td><td>1008</td><td>WEEK 2</td><td>04/Jul/2010</td><td>RETI   </td><td>Whole blood</td><td>5.30e+01</td><td>10^3 /uL</td><td>2.3e+01</td><td>9.0e+01</td></tr>\n",
              "\t<tr><td>320</td><td>STU001</td><td>1008</td><td>WEEK 2</td><td>04/Jul/2010</td><td>WBC    </td><td>Whole blood</td><td>1.05e+05</td><td>/uL     </td><td>5.0e+04</td><td>1.0e+05</td></tr>\n",
              "\t<tr><td>321</td><td>STU001</td><td>1008</td><td>WEEK 3</td><td>11/Jul/2010</td><td>BASO   </td><td>Whole blood</td><td>0.00e+00</td><td>/uL     </td><td>0.0e+00</td><td>1.0e+03</td></tr>\n",
              "\t<tr><td>322</td><td>STU001</td><td>1008</td><td>WEEK 3</td><td>11/Jul/2010</td><td>EOS    </td><td>Whole blood</td><td>2.70e+03</td><td>/uL     </td><td>5.0e+02</td><td>3.0e+03</td></tr>\n",
              "\t<tr><td>323</td><td>STU001</td><td>1008</td><td>WEEK 3</td><td>11/Jul/2010</td><td>FIBRINO</td><td>Plasma     </td><td>2.60e+02</td><td>mg/dL   </td><td>1.5e+02</td><td>3.5e+02</td></tr>\n",
              "\t<tr><td>324</td><td>STU001</td><td>1008</td><td>WEEK 3</td><td>11/Jul/2010</td><td>HCT    </td><td>Whole blood</td><td>4.60e+01</td><td>%       </td><td>3.8e+01</td><td>5.4e+01</td></tr>\n",
              "\t<tr><td>325</td><td>STU001</td><td>1008</td><td>WEEK 3</td><td>11/Jul/2010</td><td>HGB    </td><td>Whole blood</td><td>1.60e+01</td><td>g/dL    </td><td>1.4e+01</td><td>1.8e+01</td></tr>\n",
              "\t<tr><td>326</td><td>STU001</td><td>1008</td><td>WEEK 3</td><td>11/Jul/2010</td><td>LYM    </td><td>Whole blood</td><td>4.20e+04</td><td>/uL     </td><td>1.0e+04</td><td>4.0e+04</td></tr>\n",
              "\t<tr><td>327</td><td>STU001</td><td>1008</td><td>WEEK 3</td><td>11/Jul/2010</td><td>MCH    </td><td>Whole blood</td><td>2.90e+01</td><td>pg/cell </td><td>2.7e+01</td><td>3.2e+01</td></tr>\n",
              "\t<tr><td>328</td><td>STU001</td><td>1008</td><td>WEEK 3</td><td>11/Jul/2010</td><td>MCHC   </td><td>Whole blood</td><td>3.20e+01</td><td>g/dL    </td><td>3.3e+01</td><td>3.6e+01</td></tr>\n",
              "\t<tr><td>329</td><td>STU001</td><td>1008</td><td>WEEK 3</td><td>11/Jul/2010</td><td>MCV    </td><td>Whole blood</td><td>9.20e+01</td><td>um^3    </td><td>8.0e+01</td><td>9.4e+01</td></tr>\n",
              "\t<tr><td>330</td><td>STU001</td><td>1008</td><td>WEEK 3</td><td>11/Jul/2010</td><td>MONO   </td><td>Whole blood</td><td>7.00e+03</td><td>/uL     </td><td>2.0e+03</td><td>8.0e+03</td></tr>\n",
              "\t<tr><td>331</td><td>STU001</td><td>1008</td><td>WEEK 3</td><td>11/Jul/2010</td><td>NEUT   </td><td>Whole blood</td><td>4.40e+03</td><td>/uL     </td><td>1.8e+03</td><td>7.5e+03</td></tr>\n",
              "\t<tr><td>332</td><td>STU001</td><td>1008</td><td>WEEK 3</td><td>11/Jul/2010</td><td>NEUTSG </td><td>Whole blood</td><td>3.10e+04</td><td>/uL     </td><td>2.5e+04</td><td>6.0e+04</td></tr>\n",
              "\t<tr><td>333</td><td>STU001</td><td>1008</td><td>WEEK 3</td><td>11/Jul/2010</td><td>PT     </td><td>Plasma     </td><td>2.20e+01</td><td>s       </td><td>1.0e+01</td><td>2.0e+01</td></tr>\n",
              "\t<tr><td>334</td><td>STU001</td><td>1008</td><td>WEEK 3</td><td>11/Jul/2010</td><td>RBC    </td><td>Whole blood</td><td>6.00e-01</td><td>10^6 /uL</td><td>4.5e-01</td><td>6.0e-01</td></tr>\n",
              "\t<tr><td>335</td><td>STU001</td><td>1008</td><td>WEEK 3</td><td>11/Jul/2010</td><td>RETI   </td><td>Whole blood</td><td>7.60e+01</td><td>10^3 /uL</td><td>2.3e+01</td><td>9.0e+01</td></tr>\n",
              "\t<tr><td>336</td><td>STU001</td><td>1008</td><td>WEEK 3</td><td>11/Jul/2010</td><td>WBC    </td><td>Whole blood</td><td>6.10e+04</td><td>/uL     </td><td>5.0e+04</td><td>1.0e+05</td></tr>\n",
              "</tbody>\n",
              "</table>\n"
            ],
            "text/latex": [
              "A tibble: 336 × 11\n",
              "\\begin{tabular}{lllllllllll}\n",
              " V1 & study & pt & folder & lbdt\\_raw & test & specimen & coll\\_rslt & coll\\_unit & lower & upper\\\\\n",
              " <int> & <chr> & <int> & <chr> & <chr> & <chr> & <chr> & <dbl> & <chr> & <dbl> & <dbl>\\\\\n",
              "\\hline\n",
              "\t  1 & STU001 & 1004 & SCR    & 02/Jan/2010 & BASO    & Whole blood &  1000.00 & /uL      & 0.0e+00 & 1.0e+03\\\\\n",
              "\t  2 & STU001 & 1004 & SCR    & 02/Jan/2010 & EOS     & Whole blood &  2100.00 & /uL      & 5.0e+02 & 3.0e+03\\\\\n",
              "\t  3 & STU001 & 1004 & SCR    & 02/Jan/2010 & FIBRINO & Plasma      &   260.00 & mg/dL    & 1.5e+02 & 3.5e+02\\\\\n",
              "\t  4 & STU001 & 1004 & SCR    & 02/Jan/2010 & HCT     & Whole blood &    50.00 & \\%        & 3.8e+01 & 5.4e+01\\\\\n",
              "\t  5 & STU001 & 1004 & SCR    & 02/Jan/2010 & HGB     & Whole blood &    19.00 & g/dL     & 1.4e+01 & 1.8e+01\\\\\n",
              "\t  6 & STU001 & 1004 & SCR    & 02/Jan/2010 & LYM     & Whole blood & 36000.00 & /uL      & 1.0e+04 & 4.0e+04\\\\\n",
              "\t  7 & STU001 & 1004 & SCR    & 02/Jan/2010 & MCH     & Whole blood &    30.00 & pg/cell  & 2.7e+01 & 3.2e+01\\\\\n",
              "\t  8 & STU001 & 1004 & SCR    & 02/Jan/2010 & MCHC    & Whole blood &    39.00 & g/dL     & 3.3e+01 & 3.6e+01\\\\\n",
              "\t  9 & STU001 & 1004 & SCR    & 02/Jan/2010 & MCV     & Whole blood &   103.00 & um\\textasciicircum{}3     & 8.0e+01 & 9.4e+01\\\\\n",
              "\t 10 & STU001 & 1004 & SCR    & 02/Jan/2010 & MONO    & Whole blood &  3000.00 & /uL      & 2.0e+03 & 8.0e+03\\\\\n",
              "\t 11 & STU001 & 1004 & SCR    & 02/Jan/2010 & NEUT    & Whole blood &  7900.00 & /uL      & 1.8e+03 & 7.5e+03\\\\\n",
              "\t 12 & STU001 & 1004 & SCR    & 02/Jan/2010 & NEUTSG  & Whole blood & 53000.00 & /uL      & 2.5e+04 & 6.0e+04\\\\\n",
              "\t 13 & STU001 & 1004 & SCR    & 02/Jan/2010 & PT      & Plasma      &    17.00 & s        & 1.0e+01 & 2.0e+01\\\\\n",
              "\t 14 & STU001 & 1004 & SCR    & 02/Jan/2010 & RBC     & Whole blood &     0.57 & 10\\textasciicircum{}6 /uL & 4.5e-01 & 6.0e-01\\\\\n",
              "\t 15 & STU001 & 1004 & SCR    & 02/Jan/2010 & RETI    & Whole blood &    60.00 & 10\\textasciicircum{}3 /uL & 2.3e+01 & 9.0e+01\\\\\n",
              "\t 16 & STU001 & 1004 & SCR    & 02/Jan/2010 & WBC     & Whole blood & 50000.00 & /uL      & 5.0e+04 & 1.0e+05\\\\\n",
              "\t 17 & STU001 & 1004 & WEEK 1 & 05/Jan/2010 & BASO    & Whole blood &     0.00 & /uL      & 0.0e+00 & 1.0e+03\\\\\n",
              "\t 18 & STU001 & 1004 & WEEK 1 & 05/Jan/2010 & EOS     & Whole blood &  2500.00 & /uL      & 5.0e+02 & 3.0e+03\\\\\n",
              "\t 19 & STU001 & 1004 & WEEK 1 & 05/Jan/2010 & FIBRINO & Plasma      &   140.00 & mg/dL    & 1.5e+02 & 3.5e+02\\\\\n",
              "\t 20 & STU001 & 1004 & WEEK 1 & 05/Jan/2010 & HCT     & Whole blood &    40.00 & \\%        & 3.8e+01 & 5.4e+01\\\\\n",
              "\t 21 & STU001 & 1004 & WEEK 1 & 05/Jan/2010 & HGB     & Whole blood &    13.00 & g/dL     & 1.4e+01 & 1.8e+01\\\\\n",
              "\t 22 & STU001 & 1004 & WEEK 1 & 05/Jan/2010 & LYM     & Whole blood & 17000.00 & /uL      & 1.0e+04 & 4.0e+04\\\\\n",
              "\t 23 & STU001 & 1004 & WEEK 1 & 05/Jan/2010 & MCH     & Whole blood &    27.00 & pg/cell  & 2.7e+01 & 3.2e+01\\\\\n",
              "\t 24 & STU001 & 1004 & WEEK 1 & 05/Jan/2010 & MCHC    & Whole blood &    35.00 & g/dL     & 3.3e+01 & 3.6e+01\\\\\n",
              "\t 25 & STU001 & 1004 & WEEK 1 & 05/Jan/2010 & MCV     & Whole blood &    93.00 & um\\textasciicircum{}3     & 8.0e+01 & 9.4e+01\\\\\n",
              "\t 26 & STU001 & 1004 & WEEK 1 & 05/Jan/2010 & MONO    & Whole blood &  4000.00 & /uL      & 2.0e+03 & 8.0e+03\\\\\n",
              "\t 27 & STU001 & 1004 & WEEK 1 & 05/Jan/2010 & NEUT    & Whole blood &  5500.00 & /uL      & 1.8e+03 & 7.5e+03\\\\\n",
              "\t 28 & STU001 & 1004 & WEEK 1 & 05/Jan/2010 & NEUTSG  & Whole blood & 62000.00 & /uL      & 2.5e+04 & 6.0e+04\\\\\n",
              "\t 29 & STU001 & 1004 & WEEK 1 & 05/Jan/2010 & PT      & Plasma      &    21.00 & s        & 1.0e+01 & 2.0e+01\\\\\n",
              "\t 30 & STU001 & 1004 & WEEK 1 & 05/Jan/2010 & RBC     & Whole blood &     0.50 & 10\\textasciicircum{}6 /uL & 4.5e-01 & 6.0e-01\\\\\n",
              "\t ... & ... & ... & ... & ... & ... & ... & ... & ... & ... & ...\\\\\n",
              "\t 307 & STU001 & 1008 & WEEK 2 & 04/Jul/2010 & FIBRINO & Plasma      & 3.30e+02 & mg/dL    & 1.5e+02 & 3.5e+02\\\\\n",
              "\t 308 & STU001 & 1008 & WEEK 2 & 04/Jul/2010 & HCT     & Whole blood & 5.10e+01 & \\%        & 3.8e+01 & 5.4e+01\\\\\n",
              "\t 309 & STU001 & 1008 & WEEK 2 & 04/Jul/2010 & HGB     & Whole blood & 1.70e+01 & g/dL     & 1.4e+01 & 1.8e+01\\\\\n",
              "\t 310 & STU001 & 1008 & WEEK 2 & 04/Jul/2010 & LYM     & Whole blood & 2.70e+04 & /uL      & 1.0e+04 & 4.0e+04\\\\\n",
              "\t 311 & STU001 & 1008 & WEEK 2 & 04/Jul/2010 & MCH     & Whole blood & 3.10e+01 & pg/cell  & 2.7e+01 & 3.2e+01\\\\\n",
              "\t 312 & STU001 & 1008 & WEEK 2 & 04/Jul/2010 & MCHC    & Whole blood & 3.90e+01 & g/dL     & 3.3e+01 & 3.6e+01\\\\\n",
              "\t 313 & STU001 & 1008 & WEEK 2 & 04/Jul/2010 & MCV     & Whole blood & 7.60e+01 & um\\textasciicircum{}3     & 8.0e+01 & 9.4e+01\\\\\n",
              "\t 314 & STU001 & 1008 & WEEK 2 & 04/Jul/2010 & MONO    & Whole blood & 5.00e+03 & /uL      & 2.0e+03 & 8.0e+03\\\\\n",
              "\t 315 & STU001 & 1008 & WEEK 2 & 04/Jul/2010 & NEUT    & Whole blood & 4.50e+03 & /uL      & 1.8e+03 & 7.5e+03\\\\\n",
              "\t 316 & STU001 & 1008 & WEEK 2 & 04/Jul/2010 & NEUTSG  & Whole blood & 3.10e+04 & /uL      & 2.5e+04 & 6.0e+04\\\\\n",
              "\t 317 & STU001 & 1008 & WEEK 2 & 04/Jul/2010 & PT      & Plasma      & 1.40e+01 & s        & 1.0e+01 & 2.0e+01\\\\\n",
              "\t 318 & STU001 & 1008 & WEEK 2 & 04/Jul/2010 & RBC     & Whole blood & 5.10e-01 & 10\\textasciicircum{}6 /uL & 4.5e-01 & 6.0e-01\\\\\n",
              "\t 319 & STU001 & 1008 & WEEK 2 & 04/Jul/2010 & RETI    & Whole blood & 5.30e+01 & 10\\textasciicircum{}3 /uL & 2.3e+01 & 9.0e+01\\\\\n",
              "\t 320 & STU001 & 1008 & WEEK 2 & 04/Jul/2010 & WBC     & Whole blood & 1.05e+05 & /uL      & 5.0e+04 & 1.0e+05\\\\\n",
              "\t 321 & STU001 & 1008 & WEEK 3 & 11/Jul/2010 & BASO    & Whole blood & 0.00e+00 & /uL      & 0.0e+00 & 1.0e+03\\\\\n",
              "\t 322 & STU001 & 1008 & WEEK 3 & 11/Jul/2010 & EOS     & Whole blood & 2.70e+03 & /uL      & 5.0e+02 & 3.0e+03\\\\\n",
              "\t 323 & STU001 & 1008 & WEEK 3 & 11/Jul/2010 & FIBRINO & Plasma      & 2.60e+02 & mg/dL    & 1.5e+02 & 3.5e+02\\\\\n",
              "\t 324 & STU001 & 1008 & WEEK 3 & 11/Jul/2010 & HCT     & Whole blood & 4.60e+01 & \\%        & 3.8e+01 & 5.4e+01\\\\\n",
              "\t 325 & STU001 & 1008 & WEEK 3 & 11/Jul/2010 & HGB     & Whole blood & 1.60e+01 & g/dL     & 1.4e+01 & 1.8e+01\\\\\n",
              "\t 326 & STU001 & 1008 & WEEK 3 & 11/Jul/2010 & LYM     & Whole blood & 4.20e+04 & /uL      & 1.0e+04 & 4.0e+04\\\\\n",
              "\t 327 & STU001 & 1008 & WEEK 3 & 11/Jul/2010 & MCH     & Whole blood & 2.90e+01 & pg/cell  & 2.7e+01 & 3.2e+01\\\\\n",
              "\t 328 & STU001 & 1008 & WEEK 3 & 11/Jul/2010 & MCHC    & Whole blood & 3.20e+01 & g/dL     & 3.3e+01 & 3.6e+01\\\\\n",
              "\t 329 & STU001 & 1008 & WEEK 3 & 11/Jul/2010 & MCV     & Whole blood & 9.20e+01 & um\\textasciicircum{}3     & 8.0e+01 & 9.4e+01\\\\\n",
              "\t 330 & STU001 & 1008 & WEEK 3 & 11/Jul/2010 & MONO    & Whole blood & 7.00e+03 & /uL      & 2.0e+03 & 8.0e+03\\\\\n",
              "\t 331 & STU001 & 1008 & WEEK 3 & 11/Jul/2010 & NEUT    & Whole blood & 4.40e+03 & /uL      & 1.8e+03 & 7.5e+03\\\\\n",
              "\t 332 & STU001 & 1008 & WEEK 3 & 11/Jul/2010 & NEUTSG  & Whole blood & 3.10e+04 & /uL      & 2.5e+04 & 6.0e+04\\\\\n",
              "\t 333 & STU001 & 1008 & WEEK 3 & 11/Jul/2010 & PT      & Plasma      & 2.20e+01 & s        & 1.0e+01 & 2.0e+01\\\\\n",
              "\t 334 & STU001 & 1008 & WEEK 3 & 11/Jul/2010 & RBC     & Whole blood & 6.00e-01 & 10\\textasciicircum{}6 /uL & 4.5e-01 & 6.0e-01\\\\\n",
              "\t 335 & STU001 & 1008 & WEEK 3 & 11/Jul/2010 & RETI    & Whole blood & 7.60e+01 & 10\\textasciicircum{}3 /uL & 2.3e+01 & 9.0e+01\\\\\n",
              "\t 336 & STU001 & 1008 & WEEK 3 & 11/Jul/2010 & WBC     & Whole blood & 6.10e+04 & /uL      & 5.0e+04 & 1.0e+05\\\\\n",
              "\\end{tabular}\n"
            ],
            "text/markdown": [
              "\n",
              "A tibble: 336 × 11\n",
              "\n",
              "| V1 &lt;int&gt; | study &lt;chr&gt; | pt &lt;int&gt; | folder &lt;chr&gt; | lbdt_raw &lt;chr&gt; | test &lt;chr&gt; | specimen &lt;chr&gt; | coll_rslt &lt;dbl&gt; | coll_unit &lt;chr&gt; | lower &lt;dbl&gt; | upper &lt;dbl&gt; |\n",
              "|---|---|---|---|---|---|---|---|---|---|---|\n",
              "|  1 | STU001 | 1004 | SCR    | 02/Jan/2010 | BASO    | Whole blood |  1000.00 | /uL      | 0.0e+00 | 1.0e+03 |\n",
              "|  2 | STU001 | 1004 | SCR    | 02/Jan/2010 | EOS     | Whole blood |  2100.00 | /uL      | 5.0e+02 | 3.0e+03 |\n",
              "|  3 | STU001 | 1004 | SCR    | 02/Jan/2010 | FIBRINO | Plasma      |   260.00 | mg/dL    | 1.5e+02 | 3.5e+02 |\n",
              "|  4 | STU001 | 1004 | SCR    | 02/Jan/2010 | HCT     | Whole blood |    50.00 | %        | 3.8e+01 | 5.4e+01 |\n",
              "|  5 | STU001 | 1004 | SCR    | 02/Jan/2010 | HGB     | Whole blood |    19.00 | g/dL     | 1.4e+01 | 1.8e+01 |\n",
              "|  6 | STU001 | 1004 | SCR    | 02/Jan/2010 | LYM     | Whole blood | 36000.00 | /uL      | 1.0e+04 | 4.0e+04 |\n",
              "|  7 | STU001 | 1004 | SCR    | 02/Jan/2010 | MCH     | Whole blood |    30.00 | pg/cell  | 2.7e+01 | 3.2e+01 |\n",
              "|  8 | STU001 | 1004 | SCR    | 02/Jan/2010 | MCHC    | Whole blood |    39.00 | g/dL     | 3.3e+01 | 3.6e+01 |\n",
              "|  9 | STU001 | 1004 | SCR    | 02/Jan/2010 | MCV     | Whole blood |   103.00 | um^3     | 8.0e+01 | 9.4e+01 |\n",
              "| 10 | STU001 | 1004 | SCR    | 02/Jan/2010 | MONO    | Whole blood |  3000.00 | /uL      | 2.0e+03 | 8.0e+03 |\n",
              "| 11 | STU001 | 1004 | SCR    | 02/Jan/2010 | NEUT    | Whole blood |  7900.00 | /uL      | 1.8e+03 | 7.5e+03 |\n",
              "| 12 | STU001 | 1004 | SCR    | 02/Jan/2010 | NEUTSG  | Whole blood | 53000.00 | /uL      | 2.5e+04 | 6.0e+04 |\n",
              "| 13 | STU001 | 1004 | SCR    | 02/Jan/2010 | PT      | Plasma      |    17.00 | s        | 1.0e+01 | 2.0e+01 |\n",
              "| 14 | STU001 | 1004 | SCR    | 02/Jan/2010 | RBC     | Whole blood |     0.57 | 10^6 /uL | 4.5e-01 | 6.0e-01 |\n",
              "| 15 | STU001 | 1004 | SCR    | 02/Jan/2010 | RETI    | Whole blood |    60.00 | 10^3 /uL | 2.3e+01 | 9.0e+01 |\n",
              "| 16 | STU001 | 1004 | SCR    | 02/Jan/2010 | WBC     | Whole blood | 50000.00 | /uL      | 5.0e+04 | 1.0e+05 |\n",
              "| 17 | STU001 | 1004 | WEEK 1 | 05/Jan/2010 | BASO    | Whole blood |     0.00 | /uL      | 0.0e+00 | 1.0e+03 |\n",
              "| 18 | STU001 | 1004 | WEEK 1 | 05/Jan/2010 | EOS     | Whole blood |  2500.00 | /uL      | 5.0e+02 | 3.0e+03 |\n",
              "| 19 | STU001 | 1004 | WEEK 1 | 05/Jan/2010 | FIBRINO | Plasma      |   140.00 | mg/dL    | 1.5e+02 | 3.5e+02 |\n",
              "| 20 | STU001 | 1004 | WEEK 1 | 05/Jan/2010 | HCT     | Whole blood |    40.00 | %        | 3.8e+01 | 5.4e+01 |\n",
              "| 21 | STU001 | 1004 | WEEK 1 | 05/Jan/2010 | HGB     | Whole blood |    13.00 | g/dL     | 1.4e+01 | 1.8e+01 |\n",
              "| 22 | STU001 | 1004 | WEEK 1 | 05/Jan/2010 | LYM     | Whole blood | 17000.00 | /uL      | 1.0e+04 | 4.0e+04 |\n",
              "| 23 | STU001 | 1004 | WEEK 1 | 05/Jan/2010 | MCH     | Whole blood |    27.00 | pg/cell  | 2.7e+01 | 3.2e+01 |\n",
              "| 24 | STU001 | 1004 | WEEK 1 | 05/Jan/2010 | MCHC    | Whole blood |    35.00 | g/dL     | 3.3e+01 | 3.6e+01 |\n",
              "| 25 | STU001 | 1004 | WEEK 1 | 05/Jan/2010 | MCV     | Whole blood |    93.00 | um^3     | 8.0e+01 | 9.4e+01 |\n",
              "| 26 | STU001 | 1004 | WEEK 1 | 05/Jan/2010 | MONO    | Whole blood |  4000.00 | /uL      | 2.0e+03 | 8.0e+03 |\n",
              "| 27 | STU001 | 1004 | WEEK 1 | 05/Jan/2010 | NEUT    | Whole blood |  5500.00 | /uL      | 1.8e+03 | 7.5e+03 |\n",
              "| 28 | STU001 | 1004 | WEEK 1 | 05/Jan/2010 | NEUTSG  | Whole blood | 62000.00 | /uL      | 2.5e+04 | 6.0e+04 |\n",
              "| 29 | STU001 | 1004 | WEEK 1 | 05/Jan/2010 | PT      | Plasma      |    21.00 | s        | 1.0e+01 | 2.0e+01 |\n",
              "| 30 | STU001 | 1004 | WEEK 1 | 05/Jan/2010 | RBC     | Whole blood |     0.50 | 10^6 /uL | 4.5e-01 | 6.0e-01 |\n",
              "| ... | ... | ... | ... | ... | ... | ... | ... | ... | ... | ... |\n",
              "| 307 | STU001 | 1008 | WEEK 2 | 04/Jul/2010 | FIBRINO | Plasma      | 3.30e+02 | mg/dL    | 1.5e+02 | 3.5e+02 |\n",
              "| 308 | STU001 | 1008 | WEEK 2 | 04/Jul/2010 | HCT     | Whole blood | 5.10e+01 | %        | 3.8e+01 | 5.4e+01 |\n",
              "| 309 | STU001 | 1008 | WEEK 2 | 04/Jul/2010 | HGB     | Whole blood | 1.70e+01 | g/dL     | 1.4e+01 | 1.8e+01 |\n",
              "| 310 | STU001 | 1008 | WEEK 2 | 04/Jul/2010 | LYM     | Whole blood | 2.70e+04 | /uL      | 1.0e+04 | 4.0e+04 |\n",
              "| 311 | STU001 | 1008 | WEEK 2 | 04/Jul/2010 | MCH     | Whole blood | 3.10e+01 | pg/cell  | 2.7e+01 | 3.2e+01 |\n",
              "| 312 | STU001 | 1008 | WEEK 2 | 04/Jul/2010 | MCHC    | Whole blood | 3.90e+01 | g/dL     | 3.3e+01 | 3.6e+01 |\n",
              "| 313 | STU001 | 1008 | WEEK 2 | 04/Jul/2010 | MCV     | Whole blood | 7.60e+01 | um^3     | 8.0e+01 | 9.4e+01 |\n",
              "| 314 | STU001 | 1008 | WEEK 2 | 04/Jul/2010 | MONO    | Whole blood | 5.00e+03 | /uL      | 2.0e+03 | 8.0e+03 |\n",
              "| 315 | STU001 | 1008 | WEEK 2 | 04/Jul/2010 | NEUT    | Whole blood | 4.50e+03 | /uL      | 1.8e+03 | 7.5e+03 |\n",
              "| 316 | STU001 | 1008 | WEEK 2 | 04/Jul/2010 | NEUTSG  | Whole blood | 3.10e+04 | /uL      | 2.5e+04 | 6.0e+04 |\n",
              "| 317 | STU001 | 1008 | WEEK 2 | 04/Jul/2010 | PT      | Plasma      | 1.40e+01 | s        | 1.0e+01 | 2.0e+01 |\n",
              "| 318 | STU001 | 1008 | WEEK 2 | 04/Jul/2010 | RBC     | Whole blood | 5.10e-01 | 10^6 /uL | 4.5e-01 | 6.0e-01 |\n",
              "| 319 | STU001 | 1008 | WEEK 2 | 04/Jul/2010 | RETI    | Whole blood | 5.30e+01 | 10^3 /uL | 2.3e+01 | 9.0e+01 |\n",
              "| 320 | STU001 | 1008 | WEEK 2 | 04/Jul/2010 | WBC     | Whole blood | 1.05e+05 | /uL      | 5.0e+04 | 1.0e+05 |\n",
              "| 321 | STU001 | 1008 | WEEK 3 | 11/Jul/2010 | BASO    | Whole blood | 0.00e+00 | /uL      | 0.0e+00 | 1.0e+03 |\n",
              "| 322 | STU001 | 1008 | WEEK 3 | 11/Jul/2010 | EOS     | Whole blood | 2.70e+03 | /uL      | 5.0e+02 | 3.0e+03 |\n",
              "| 323 | STU001 | 1008 | WEEK 3 | 11/Jul/2010 | FIBRINO | Plasma      | 2.60e+02 | mg/dL    | 1.5e+02 | 3.5e+02 |\n",
              "| 324 | STU001 | 1008 | WEEK 3 | 11/Jul/2010 | HCT     | Whole blood | 4.60e+01 | %        | 3.8e+01 | 5.4e+01 |\n",
              "| 325 | STU001 | 1008 | WEEK 3 | 11/Jul/2010 | HGB     | Whole blood | 1.60e+01 | g/dL     | 1.4e+01 | 1.8e+01 |\n",
              "| 326 | STU001 | 1008 | WEEK 3 | 11/Jul/2010 | LYM     | Whole blood | 4.20e+04 | /uL      | 1.0e+04 | 4.0e+04 |\n",
              "| 327 | STU001 | 1008 | WEEK 3 | 11/Jul/2010 | MCH     | Whole blood | 2.90e+01 | pg/cell  | 2.7e+01 | 3.2e+01 |\n",
              "| 328 | STU001 | 1008 | WEEK 3 | 11/Jul/2010 | MCHC    | Whole blood | 3.20e+01 | g/dL     | 3.3e+01 | 3.6e+01 |\n",
              "| 329 | STU001 | 1008 | WEEK 3 | 11/Jul/2010 | MCV     | Whole blood | 9.20e+01 | um^3     | 8.0e+01 | 9.4e+01 |\n",
              "| 330 | STU001 | 1008 | WEEK 3 | 11/Jul/2010 | MONO    | Whole blood | 7.00e+03 | /uL      | 2.0e+03 | 8.0e+03 |\n",
              "| 331 | STU001 | 1008 | WEEK 3 | 11/Jul/2010 | NEUT    | Whole blood | 4.40e+03 | /uL      | 1.8e+03 | 7.5e+03 |\n",
              "| 332 | STU001 | 1008 | WEEK 3 | 11/Jul/2010 | NEUTSG  | Whole blood | 3.10e+04 | /uL      | 2.5e+04 | 6.0e+04 |\n",
              "| 333 | STU001 | 1008 | WEEK 3 | 11/Jul/2010 | PT      | Plasma      | 2.20e+01 | s        | 1.0e+01 | 2.0e+01 |\n",
              "| 334 | STU001 | 1008 | WEEK 3 | 11/Jul/2010 | RBC     | Whole blood | 6.00e-01 | 10^6 /uL | 4.5e-01 | 6.0e-01 |\n",
              "| 335 | STU001 | 1008 | WEEK 3 | 11/Jul/2010 | RETI    | Whole blood | 7.60e+01 | 10^3 /uL | 2.3e+01 | 9.0e+01 |\n",
              "| 336 | STU001 | 1008 | WEEK 3 | 11/Jul/2010 | WBC     | Whole blood | 6.10e+04 | /uL      | 5.0e+04 | 1.0e+05 |\n",
              "\n"
            ],
            "text/plain": [
              "    V1  study  pt   folder lbdt_raw    test    specimen    coll_rslt coll_unit\n",
              "1    1  STU001 1004 SCR    02/Jan/2010 BASO    Whole blood  1000.00  /uL      \n",
              "2    2  STU001 1004 SCR    02/Jan/2010 EOS     Whole blood  2100.00  /uL      \n",
              "3    3  STU001 1004 SCR    02/Jan/2010 FIBRINO Plasma        260.00  mg/dL    \n",
              "4    4  STU001 1004 SCR    02/Jan/2010 HCT     Whole blood    50.00  %        \n",
              "5    5  STU001 1004 SCR    02/Jan/2010 HGB     Whole blood    19.00  g/dL     \n",
              "6    6  STU001 1004 SCR    02/Jan/2010 LYM     Whole blood 36000.00  /uL      \n",
              "7    7  STU001 1004 SCR    02/Jan/2010 MCH     Whole blood    30.00  pg/cell  \n",
              "8    8  STU001 1004 SCR    02/Jan/2010 MCHC    Whole blood    39.00  g/dL     \n",
              "9    9  STU001 1004 SCR    02/Jan/2010 MCV     Whole blood   103.00  um^3     \n",
              "10  10  STU001 1004 SCR    02/Jan/2010 MONO    Whole blood  3000.00  /uL      \n",
              "11  11  STU001 1004 SCR    02/Jan/2010 NEUT    Whole blood  7900.00  /uL      \n",
              "12  12  STU001 1004 SCR    02/Jan/2010 NEUTSG  Whole blood 53000.00  /uL      \n",
              "13  13  STU001 1004 SCR    02/Jan/2010 PT      Plasma         17.00  s        \n",
              "14  14  STU001 1004 SCR    02/Jan/2010 RBC     Whole blood     0.57  10^6 /uL \n",
              "15  15  STU001 1004 SCR    02/Jan/2010 RETI    Whole blood    60.00  10^3 /uL \n",
              "16  16  STU001 1004 SCR    02/Jan/2010 WBC     Whole blood 50000.00  /uL      \n",
              "17  17  STU001 1004 WEEK 1 05/Jan/2010 BASO    Whole blood     0.00  /uL      \n",
              "18  18  STU001 1004 WEEK 1 05/Jan/2010 EOS     Whole blood  2500.00  /uL      \n",
              "19  19  STU001 1004 WEEK 1 05/Jan/2010 FIBRINO Plasma        140.00  mg/dL    \n",
              "20  20  STU001 1004 WEEK 1 05/Jan/2010 HCT     Whole blood    40.00  %        \n",
              "21  21  STU001 1004 WEEK 1 05/Jan/2010 HGB     Whole blood    13.00  g/dL     \n",
              "22  22  STU001 1004 WEEK 1 05/Jan/2010 LYM     Whole blood 17000.00  /uL      \n",
              "23  23  STU001 1004 WEEK 1 05/Jan/2010 MCH     Whole blood    27.00  pg/cell  \n",
              "24  24  STU001 1004 WEEK 1 05/Jan/2010 MCHC    Whole blood    35.00  g/dL     \n",
              "25  25  STU001 1004 WEEK 1 05/Jan/2010 MCV     Whole blood    93.00  um^3     \n",
              "26  26  STU001 1004 WEEK 1 05/Jan/2010 MONO    Whole blood  4000.00  /uL      \n",
              "27  27  STU001 1004 WEEK 1 05/Jan/2010 NEUT    Whole blood  5500.00  /uL      \n",
              "28  28  STU001 1004 WEEK 1 05/Jan/2010 NEUTSG  Whole blood 62000.00  /uL      \n",
              "29  29  STU001 1004 WEEK 1 05/Jan/2010 PT      Plasma         21.00  s        \n",
              "30  30  STU001 1004 WEEK 1 05/Jan/2010 RBC     Whole blood     0.50  10^6 /uL \n",
              "... ... ...    ...  ...    ...         ...     ...         ...       ...      \n",
              "307 307 STU001 1008 WEEK 2 04/Jul/2010 FIBRINO Plasma      3.30e+02  mg/dL    \n",
              "308 308 STU001 1008 WEEK 2 04/Jul/2010 HCT     Whole blood 5.10e+01  %        \n",
              "309 309 STU001 1008 WEEK 2 04/Jul/2010 HGB     Whole blood 1.70e+01  g/dL     \n",
              "310 310 STU001 1008 WEEK 2 04/Jul/2010 LYM     Whole blood 2.70e+04  /uL      \n",
              "311 311 STU001 1008 WEEK 2 04/Jul/2010 MCH     Whole blood 3.10e+01  pg/cell  \n",
              "312 312 STU001 1008 WEEK 2 04/Jul/2010 MCHC    Whole blood 3.90e+01  g/dL     \n",
              "313 313 STU001 1008 WEEK 2 04/Jul/2010 MCV     Whole blood 7.60e+01  um^3     \n",
              "314 314 STU001 1008 WEEK 2 04/Jul/2010 MONO    Whole blood 5.00e+03  /uL      \n",
              "315 315 STU001 1008 WEEK 2 04/Jul/2010 NEUT    Whole blood 4.50e+03  /uL      \n",
              "316 316 STU001 1008 WEEK 2 04/Jul/2010 NEUTSG  Whole blood 3.10e+04  /uL      \n",
              "317 317 STU001 1008 WEEK 2 04/Jul/2010 PT      Plasma      1.40e+01  s        \n",
              "318 318 STU001 1008 WEEK 2 04/Jul/2010 RBC     Whole blood 5.10e-01  10^6 /uL \n",
              "319 319 STU001 1008 WEEK 2 04/Jul/2010 RETI    Whole blood 5.30e+01  10^3 /uL \n",
              "320 320 STU001 1008 WEEK 2 04/Jul/2010 WBC     Whole blood 1.05e+05  /uL      \n",
              "321 321 STU001 1008 WEEK 3 11/Jul/2010 BASO    Whole blood 0.00e+00  /uL      \n",
              "322 322 STU001 1008 WEEK 3 11/Jul/2010 EOS     Whole blood 2.70e+03  /uL      \n",
              "323 323 STU001 1008 WEEK 3 11/Jul/2010 FIBRINO Plasma      2.60e+02  mg/dL    \n",
              "324 324 STU001 1008 WEEK 3 11/Jul/2010 HCT     Whole blood 4.60e+01  %        \n",
              "325 325 STU001 1008 WEEK 3 11/Jul/2010 HGB     Whole blood 1.60e+01  g/dL     \n",
              "326 326 STU001 1008 WEEK 3 11/Jul/2010 LYM     Whole blood 4.20e+04  /uL      \n",
              "327 327 STU001 1008 WEEK 3 11/Jul/2010 MCH     Whole blood 2.90e+01  pg/cell  \n",
              "328 328 STU001 1008 WEEK 3 11/Jul/2010 MCHC    Whole blood 3.20e+01  g/dL     \n",
              "329 329 STU001 1008 WEEK 3 11/Jul/2010 MCV     Whole blood 9.20e+01  um^3     \n",
              "330 330 STU001 1008 WEEK 3 11/Jul/2010 MONO    Whole blood 7.00e+03  /uL      \n",
              "331 331 STU001 1008 WEEK 3 11/Jul/2010 NEUT    Whole blood 4.40e+03  /uL      \n",
              "332 332 STU001 1008 WEEK 3 11/Jul/2010 NEUTSG  Whole blood 3.10e+04  /uL      \n",
              "333 333 STU001 1008 WEEK 3 11/Jul/2010 PT      Plasma      2.20e+01  s        \n",
              "334 334 STU001 1008 WEEK 3 11/Jul/2010 RBC     Whole blood 6.00e-01  10^6 /uL \n",
              "335 335 STU001 1008 WEEK 3 11/Jul/2010 RETI    Whole blood 7.60e+01  10^3 /uL \n",
              "336 336 STU001 1008 WEEK 3 11/Jul/2010 WBC     Whole blood 6.10e+04  /uL      \n",
              "    lower   upper  \n",
              "1   0.0e+00 1.0e+03\n",
              "2   5.0e+02 3.0e+03\n",
              "3   1.5e+02 3.5e+02\n",
              "4   3.8e+01 5.4e+01\n",
              "5   1.4e+01 1.8e+01\n",
              "6   1.0e+04 4.0e+04\n",
              "7   2.7e+01 3.2e+01\n",
              "8   3.3e+01 3.6e+01\n",
              "9   8.0e+01 9.4e+01\n",
              "10  2.0e+03 8.0e+03\n",
              "11  1.8e+03 7.5e+03\n",
              "12  2.5e+04 6.0e+04\n",
              "13  1.0e+01 2.0e+01\n",
              "14  4.5e-01 6.0e-01\n",
              "15  2.3e+01 9.0e+01\n",
              "16  5.0e+04 1.0e+05\n",
              "17  0.0e+00 1.0e+03\n",
              "18  5.0e+02 3.0e+03\n",
              "19  1.5e+02 3.5e+02\n",
              "20  3.8e+01 5.4e+01\n",
              "21  1.4e+01 1.8e+01\n",
              "22  1.0e+04 4.0e+04\n",
              "23  2.7e+01 3.2e+01\n",
              "24  3.3e+01 3.6e+01\n",
              "25  8.0e+01 9.4e+01\n",
              "26  2.0e+03 8.0e+03\n",
              "27  1.8e+03 7.5e+03\n",
              "28  2.5e+04 6.0e+04\n",
              "29  1.0e+01 2.0e+01\n",
              "30  4.5e-01 6.0e-01\n",
              "... ...     ...    \n",
              "307 1.5e+02 3.5e+02\n",
              "308 3.8e+01 5.4e+01\n",
              "309 1.4e+01 1.8e+01\n",
              "310 1.0e+04 4.0e+04\n",
              "311 2.7e+01 3.2e+01\n",
              "312 3.3e+01 3.6e+01\n",
              "313 8.0e+01 9.4e+01\n",
              "314 2.0e+03 8.0e+03\n",
              "315 1.8e+03 7.5e+03\n",
              "316 2.5e+04 6.0e+04\n",
              "317 1.0e+01 2.0e+01\n",
              "318 4.5e-01 6.0e-01\n",
              "319 2.3e+01 9.0e+01\n",
              "320 5.0e+04 1.0e+05\n",
              "321 0.0e+00 1.0e+03\n",
              "322 5.0e+02 3.0e+03\n",
              "323 1.5e+02 3.5e+02\n",
              "324 3.8e+01 5.4e+01\n",
              "325 1.4e+01 1.8e+01\n",
              "326 1.0e+04 4.0e+04\n",
              "327 2.7e+01 3.2e+01\n",
              "328 3.3e+01 3.6e+01\n",
              "329 8.0e+01 9.4e+01\n",
              "330 2.0e+03 8.0e+03\n",
              "331 1.8e+03 7.5e+03\n",
              "332 2.5e+04 6.0e+04\n",
              "333 1.0e+01 2.0e+01\n",
              "334 4.5e-01 6.0e-01\n",
              "335 2.3e+01 9.0e+01\n",
              "336 5.0e+04 1.0e+05"
            ]
          },
          "metadata": {},
          "output_type": "display_data"
        }
      ],
      "source": [
        "lab_hema"
      ]
    },
    {
      "cell_type": "markdown",
      "id": "bbfc1b77-b077-4c9b-b81f-fabfbd110582",
      "metadata": {
        "id": "bbfc1b77-b077-4c9b-b81f-fabfbd110582"
      },
      "source": [
        "**Import**"
      ]
    },
    {
      "cell_type": "code",
      "execution_count": null,
      "id": "9f4f8f54-8ff3-49d2-ab08-cec14c56abd2",
      "metadata": {
        "id": "9f4f8f54-8ff3-49d2-ab08-cec14c56abd2"
      },
      "outputs": [],
      "source": [
        "demog <- import(\"demog.csv\")"
      ]
    },
    {
      "cell_type": "code",
      "execution_count": null,
      "id": "8d87834d-725c-4fc9-9254-aa32538c6432",
      "metadata": {
        "jupyter": {
          "source_hidden": true
        },
        "scrolled": true,
        "id": "8d87834d-725c-4fc9-9254-aa32538c6432",
        "outputId": "8cf7188e-a688-448f-ef5a-a1eba22fd92b"
      },
      "outputs": [
        {
          "data": {
            "text/html": [
              "<table class=\"dataframe\">\n",
              "<caption>A data.frame: 8 × 14</caption>\n",
              "<thead>\n",
              "\t<tr><th></th><th scope=col>V1</th><th scope=col>study</th><th scope=col>pt</th><th scope=col>sex</th><th scope=col>ethnic</th><th scope=col>race</th><th scope=col>race2</th><th scope=col>race3</th><th scope=col>race4</th><th scope=col>racesp</th><th scope=col>age_raw</th><th scope=col>age_rawu</th><th scope=col>brthdt_raw</th><th scope=col>country</th></tr>\n",
              "\t<tr><th></th><th scope=col>&lt;int&gt;</th><th scope=col>&lt;chr&gt;</th><th scope=col>&lt;int&gt;</th><th scope=col>&lt;chr&gt;</th><th scope=col>&lt;chr&gt;</th><th scope=col>&lt;chr&gt;</th><th scope=col>&lt;chr&gt;</th><th scope=col>&lt;lgl&gt;</th><th scope=col>&lt;lgl&gt;</th><th scope=col>&lt;chr&gt;</th><th scope=col>&lt;int&gt;</th><th scope=col>&lt;chr&gt;</th><th scope=col>&lt;lgl&gt;</th><th scope=col>&lt;chr&gt;</th></tr>\n",
              "</thead>\n",
              "<tbody>\n",
              "\t<tr><th scope=row>1</th><td>1</td><td>STU001</td><td>1001</td><td>Male  </td><td>Hispanic or Latino    </td><td>White                                    </td><td>                                </td><td>NA</td><td>NA</td><td>         </td><td>35</td><td>Years</td><td>NA</td><td>USA</td></tr>\n",
              "\t<tr><th scope=row>2</th><td>2</td><td>STU001</td><td>1002</td><td>Female</td><td>Not Hispanic or Latino</td><td>Asian                                    </td><td>American Indian or Alaska Native</td><td>NA</td><td>NA</td><td>         </td><td>40</td><td>Years</td><td>NA</td><td>USA</td></tr>\n",
              "\t<tr><th scope=row>3</th><td>3</td><td>STU001</td><td>1003</td><td>Male  </td><td>Hispanic or Latino    </td><td>Other                                    </td><td>                                </td><td>NA</td><td>NA</td><td>BRAZILIAN</td><td>40</td><td>Years</td><td>NA</td><td>USA</td></tr>\n",
              "\t<tr><th scope=row>4</th><td>4</td><td>STU001</td><td>1004</td><td>Male  </td><td>Hispanic or Latino    </td><td>White                                    </td><td>                                </td><td>NA</td><td>NA</td><td>         </td><td>38</td><td>Years</td><td>NA</td><td>USA</td></tr>\n",
              "\t<tr><th scope=row>5</th><td>5</td><td>STU001</td><td>1005</td><td>Male  </td><td>Not Hispanic or Latino</td><td>American Indian or Alaska Native         </td><td>                                </td><td>NA</td><td>NA</td><td>         </td><td>64</td><td>Years</td><td>NA</td><td>USA</td></tr>\n",
              "\t<tr><th scope=row>6</th><td>6</td><td>STU001</td><td>1006</td><td>Female</td><td>Not Hispanic or Latino</td><td>Native Hawaiian or Other Pacific Islander</td><td>                                </td><td>NA</td><td>NA</td><td>         </td><td>75</td><td>Years</td><td>NA</td><td>USA</td></tr>\n",
              "\t<tr><th scope=row>7</th><td>7</td><td>STU001</td><td>1007</td><td>Male  </td><td>Not Hispanic or Latino</td><td>Unknown                                  </td><td>                                </td><td>NA</td><td>NA</td><td>         </td><td>32</td><td>Years</td><td>NA</td><td>USA</td></tr>\n",
              "\t<tr><th scope=row>8</th><td>8</td><td>STU001</td><td>1008</td><td>Female</td><td>Not Hispanic or Latino</td><td>Not Reported                             </td><td>                                </td><td>NA</td><td>NA</td><td>         </td><td>83</td><td>Years</td><td>NA</td><td>USA</td></tr>\n",
              "</tbody>\n",
              "</table>\n"
            ],
            "text/latex": [
              "A data.frame: 8 × 14\n",
              "\\begin{tabular}{r|llllllllllllll}\n",
              "  & V1 & study & pt & sex & ethnic & race & race2 & race3 & race4 & racesp & age\\_raw & age\\_rawu & brthdt\\_raw & country\\\\\n",
              "  & <int> & <chr> & <int> & <chr> & <chr> & <chr> & <chr> & <lgl> & <lgl> & <chr> & <int> & <chr> & <lgl> & <chr>\\\\\n",
              "\\hline\n",
              "\t1 & 1 & STU001 & 1001 & Male   & Hispanic or Latino     & White                                     &                                  & NA & NA &           & 35 & Years & NA & USA\\\\\n",
              "\t2 & 2 & STU001 & 1002 & Female & Not Hispanic or Latino & Asian                                     & American Indian or Alaska Native & NA & NA &           & 40 & Years & NA & USA\\\\\n",
              "\t3 & 3 & STU001 & 1003 & Male   & Hispanic or Latino     & Other                                     &                                  & NA & NA & BRAZILIAN & 40 & Years & NA & USA\\\\\n",
              "\t4 & 4 & STU001 & 1004 & Male   & Hispanic or Latino     & White                                     &                                  & NA & NA &           & 38 & Years & NA & USA\\\\\n",
              "\t5 & 5 & STU001 & 1005 & Male   & Not Hispanic or Latino & American Indian or Alaska Native          &                                  & NA & NA &           & 64 & Years & NA & USA\\\\\n",
              "\t6 & 6 & STU001 & 1006 & Female & Not Hispanic or Latino & Native Hawaiian or Other Pacific Islander &                                  & NA & NA &           & 75 & Years & NA & USA\\\\\n",
              "\t7 & 7 & STU001 & 1007 & Male   & Not Hispanic or Latino & Unknown                                   &                                  & NA & NA &           & 32 & Years & NA & USA\\\\\n",
              "\t8 & 8 & STU001 & 1008 & Female & Not Hispanic or Latino & Not Reported                              &                                  & NA & NA &           & 83 & Years & NA & USA\\\\\n",
              "\\end{tabular}\n"
            ],
            "text/markdown": [
              "\n",
              "A data.frame: 8 × 14\n",
              "\n",
              "| <!--/--> | V1 &lt;int&gt; | study &lt;chr&gt; | pt &lt;int&gt; | sex &lt;chr&gt; | ethnic &lt;chr&gt; | race &lt;chr&gt; | race2 &lt;chr&gt; | race3 &lt;lgl&gt; | race4 &lt;lgl&gt; | racesp &lt;chr&gt; | age_raw &lt;int&gt; | age_rawu &lt;chr&gt; | brthdt_raw &lt;lgl&gt; | country &lt;chr&gt; |\n",
              "|---|---|---|---|---|---|---|---|---|---|---|---|---|---|---|\n",
              "| 1 | 1 | STU001 | 1001 | Male   | Hispanic or Latino     | White                                     | <!----> | NA | NA | <!----> | 35 | Years | NA | USA |\n",
              "| 2 | 2 | STU001 | 1002 | Female | Not Hispanic or Latino | Asian                                     | American Indian or Alaska Native | NA | NA | <!----> | 40 | Years | NA | USA |\n",
              "| 3 | 3 | STU001 | 1003 | Male   | Hispanic or Latino     | Other                                     | <!----> | NA | NA | BRAZILIAN | 40 | Years | NA | USA |\n",
              "| 4 | 4 | STU001 | 1004 | Male   | Hispanic or Latino     | White                                     | <!----> | NA | NA | <!----> | 38 | Years | NA | USA |\n",
              "| 5 | 5 | STU001 | 1005 | Male   | Not Hispanic or Latino | American Indian or Alaska Native          | <!----> | NA | NA | <!----> | 64 | Years | NA | USA |\n",
              "| 6 | 6 | STU001 | 1006 | Female | Not Hispanic or Latino | Native Hawaiian or Other Pacific Islander | <!----> | NA | NA | <!----> | 75 | Years | NA | USA |\n",
              "| 7 | 7 | STU001 | 1007 | Male   | Not Hispanic or Latino | Unknown                                   | <!----> | NA | NA | <!----> | 32 | Years | NA | USA |\n",
              "| 8 | 8 | STU001 | 1008 | Female | Not Hispanic or Latino | Not Reported                              | <!----> | NA | NA | <!----> | 83 | Years | NA | USA |\n",
              "\n"
            ],
            "text/plain": [
              "  V1 study  pt   sex    ethnic                \n",
              "1 1  STU001 1001 Male   Hispanic or Latino    \n",
              "2 2  STU001 1002 Female Not Hispanic or Latino\n",
              "3 3  STU001 1003 Male   Hispanic or Latino    \n",
              "4 4  STU001 1004 Male   Hispanic or Latino    \n",
              "5 5  STU001 1005 Male   Not Hispanic or Latino\n",
              "6 6  STU001 1006 Female Not Hispanic or Latino\n",
              "7 7  STU001 1007 Male   Not Hispanic or Latino\n",
              "8 8  STU001 1008 Female Not Hispanic or Latino\n",
              "  race                                      race2                           \n",
              "1 White                                                                     \n",
              "2 Asian                                     American Indian or Alaska Native\n",
              "3 Other                                                                     \n",
              "4 White                                                                     \n",
              "5 American Indian or Alaska Native                                          \n",
              "6 Native Hawaiian or Other Pacific Islander                                 \n",
              "7 Unknown                                                                   \n",
              "8 Not Reported                                                              \n",
              "  race3 race4 racesp    age_raw age_rawu brthdt_raw country\n",
              "1 NA    NA              35      Years    NA         USA    \n",
              "2 NA    NA              40      Years    NA         USA    \n",
              "3 NA    NA    BRAZILIAN 40      Years    NA         USA    \n",
              "4 NA    NA              38      Years    NA         USA    \n",
              "5 NA    NA              64      Years    NA         USA    \n",
              "6 NA    NA              75      Years    NA         USA    \n",
              "7 NA    NA              32      Years    NA         USA    \n",
              "8 NA    NA              83      Years    NA         USA    "
            ]
          },
          "metadata": {},
          "output_type": "display_data"
        }
      ],
      "source": [
        "demog"
      ]
    },
    {
      "cell_type": "markdown",
      "id": "1ac866ff-1aa0-4fcd-af36-505f19c42fb3",
      "metadata": {
        "id": "1ac866ff-1aa0-4fcd-af36-505f19c42fb3"
      },
      "source": [
        "**The export() function lets you save data to your local drive by specifying the desired file path and name.**"
      ]
    },
    {
      "cell_type": "code",
      "execution_count": null,
      "id": "9b874bfc-375a-4359-b5ac-bf8e4529872e",
      "metadata": {
        "id": "9b874bfc-375a-4359-b5ac-bf8e4529872e"
      },
      "outputs": [],
      "source": [
        "export(Inventory, \"C:/Users/Waraba/Desktop/R in CDISC _ Jupyter Lab/Inventory.csv\")"
      ]
    },
    {
      "cell_type": "code",
      "execution_count": null,
      "id": "02cd8f83-9764-4037-bc57-093ee4bbce7e",
      "metadata": {
        "id": "02cd8f83-9764-4037-bc57-093ee4bbce7e"
      },
      "outputs": [],
      "source": []
    },
    {
      "cell_type": "code",
      "execution_count": null,
      "id": "4bd7be21-a85f-4062-99a7-2f6d0cf3904c",
      "metadata": {
        "id": "4bd7be21-a85f-4062-99a7-2f6d0cf3904c"
      },
      "outputs": [],
      "source": []
    }
  ],
  "metadata": {
    "kernelspec": {
      "display_name": "R",
      "language": "R",
      "name": "ir"
    },
    "language_info": {
      "codemirror_mode": "r",
      "file_extension": ".r",
      "mimetype": "text/x-r-source",
      "name": "R",
      "pygments_lexer": "r",
      "version": "4.2.1"
    },
    "colab": {
      "provenance": [],
      "include_colab_link": true
    }
  },
  "nbformat": 4,
  "nbformat_minor": 5
}